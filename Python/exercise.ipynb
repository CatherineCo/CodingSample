{
 "cells": [
  {
   "cell_type": "code",
   "execution_count": 130,
   "metadata": {},
   "outputs": [],
   "source": [
    "import pandas as pd\n",
    "import numpy as np\n",
    "import statsmodels.api as sm\n",
    "from statsmodels.iolib.summary2 import summary_col\n",
    "import math\n",
    "import collections\n",
    "import matplotlib.pyplot as plt\n",
    "import matplotlib.image as mpimg\n",
    "import seaborn as sns\n",
    "from datetime import datetime,timedelta\n",
    "\n",
    "from IPython.core.interactiveshell import InteractiveShell\n",
    "InteractiveShell.ast_node_interactivity = \"all\"  # default last_expr"
   ]
  },
  {
   "cell_type": "code",
   "execution_count": 17,
   "metadata": {},
   "outputs": [],
   "source": [
    "path=r\"D:/Documents/graduate/application/pre-doc/Kraft\""
   ]
  },
  {
   "cell_type": "code",
   "execution_count": 131,
   "metadata": {
    "collapsed": true
   },
   "outputs": [
    {
     "data": {
      "text/html": [
       "<div>\n",
       "<style scoped>\n",
       "    .dataframe tbody tr th:only-of-type {\n",
       "        vertical-align: middle;\n",
       "    }\n",
       "\n",
       "    .dataframe tbody tr th {\n",
       "        vertical-align: top;\n",
       "    }\n",
       "\n",
       "    .dataframe thead th {\n",
       "        text-align: right;\n",
       "    }\n",
       "</style>\n",
       "<table border=\"1\" class=\"dataframe\">\n",
       "  <thead>\n",
       "    <tr style=\"text-align: right;\">\n",
       "      <th></th>\n",
       "      <th>vehicle_ID</th>\n",
       "      <th>aquisition_cost</th>\n",
       "    </tr>\n",
       "  </thead>\n",
       "  <tbody>\n",
       "    <tr>\n",
       "      <th>count</th>\n",
       "      <td>412919.000000</td>\n",
       "      <td>412919.000000</td>\n",
       "    </tr>\n",
       "    <tr>\n",
       "      <th>mean</th>\n",
       "      <td>206460.000000</td>\n",
       "      <td>9862.012528</td>\n",
       "    </tr>\n",
       "    <tr>\n",
       "      <th>std</th>\n",
       "      <td>119199.592239</td>\n",
       "      <td>5324.974477</td>\n",
       "    </tr>\n",
       "    <tr>\n",
       "      <th>min</th>\n",
       "      <td>1.000000</td>\n",
       "      <td>0.010000</td>\n",
       "    </tr>\n",
       "    <tr>\n",
       "      <th>25%</th>\n",
       "      <td>103230.500000</td>\n",
       "      <td>7529.410000</td>\n",
       "    </tr>\n",
       "    <tr>\n",
       "      <th>50%</th>\n",
       "      <td>206460.000000</td>\n",
       "      <td>9000.000000</td>\n",
       "    </tr>\n",
       "    <tr>\n",
       "      <th>75%</th>\n",
       "      <td>309689.500000</td>\n",
       "      <td>10500.000000</td>\n",
       "    </tr>\n",
       "    <tr>\n",
       "      <th>max</th>\n",
       "      <td>412919.000000</td>\n",
       "      <td>900020.000000</td>\n",
       "    </tr>\n",
       "  </tbody>\n",
       "</table>\n",
       "</div>"
      ],
      "text/plain": [
       "          vehicle_ID  aquisition_cost\n",
       "count  412919.000000    412919.000000\n",
       "mean   206460.000000      9862.012528\n",
       "std    119199.592239      5324.974477\n",
       "min         1.000000         0.010000\n",
       "25%    103230.500000      7529.410000\n",
       "50%    206460.000000      9000.000000\n",
       "75%    309689.500000     10500.000000\n",
       "max    412919.000000    900020.000000"
      ]
     },
     "execution_count": 131,
     "metadata": {},
     "output_type": "execute_result"
    },
    {
     "data": {
      "text/html": [
       "<div>\n",
       "<style scoped>\n",
       "    .dataframe tbody tr th:only-of-type {\n",
       "        vertical-align: middle;\n",
       "    }\n",
       "\n",
       "    .dataframe tbody tr th {\n",
       "        vertical-align: top;\n",
       "    }\n",
       "\n",
       "    .dataframe thead th {\n",
       "        text-align: right;\n",
       "    }\n",
       "</style>\n",
       "<table border=\"1\" class=\"dataframe\">\n",
       "  <thead>\n",
       "    <tr style=\"text-align: right;\">\n",
       "      <th></th>\n",
       "      <th>vehicle_ID</th>\n",
       "      <th>aquisition_cost</th>\n",
       "      <th>aquisition_date</th>\n",
       "    </tr>\n",
       "  </thead>\n",
       "  <tbody>\n",
       "    <tr>\n",
       "      <th>0</th>\n",
       "      <td>1</td>\n",
       "      <td>9500.0</td>\n",
       "      <td>2014-09-02</td>\n",
       "    </tr>\n",
       "    <tr>\n",
       "      <th>1</th>\n",
       "      <td>2</td>\n",
       "      <td>8500.0</td>\n",
       "      <td>2014-09-02</td>\n",
       "    </tr>\n",
       "    <tr>\n",
       "      <th>2</th>\n",
       "      <td>3</td>\n",
       "      <td>5700.0</td>\n",
       "      <td>2014-09-02</td>\n",
       "    </tr>\n",
       "    <tr>\n",
       "      <th>3</th>\n",
       "      <td>4</td>\n",
       "      <td>8000.0</td>\n",
       "      <td>2014-09-02</td>\n",
       "    </tr>\n",
       "    <tr>\n",
       "      <th>4</th>\n",
       "      <td>5</td>\n",
       "      <td>6655.0</td>\n",
       "      <td>2014-09-02</td>\n",
       "    </tr>\n",
       "    <tr>\n",
       "      <th>...</th>\n",
       "      <td>...</td>\n",
       "      <td>...</td>\n",
       "      <td>...</td>\n",
       "    </tr>\n",
       "    <tr>\n",
       "      <th>412914</th>\n",
       "      <td>412915</td>\n",
       "      <td>10000.0</td>\n",
       "      <td>2021-12-07</td>\n",
       "    </tr>\n",
       "    <tr>\n",
       "      <th>412915</th>\n",
       "      <td>412916</td>\n",
       "      <td>8500.0</td>\n",
       "      <td>2021-12-07</td>\n",
       "    </tr>\n",
       "    <tr>\n",
       "      <th>412916</th>\n",
       "      <td>412917</td>\n",
       "      <td>6500.0</td>\n",
       "      <td>2021-12-07</td>\n",
       "    </tr>\n",
       "    <tr>\n",
       "      <th>412917</th>\n",
       "      <td>412918</td>\n",
       "      <td>5500.0</td>\n",
       "      <td>2021-12-07</td>\n",
       "    </tr>\n",
       "    <tr>\n",
       "      <th>412918</th>\n",
       "      <td>412919</td>\n",
       "      <td>6000.0</td>\n",
       "      <td>2021-12-08</td>\n",
       "    </tr>\n",
       "  </tbody>\n",
       "</table>\n",
       "<p>412919 rows × 3 columns</p>\n",
       "</div>"
      ],
      "text/plain": [
       "        vehicle_ID  aquisition_cost aquisition_date\n",
       "0                1           9500.0      2014-09-02\n",
       "1                2           8500.0      2014-09-02\n",
       "2                3           5700.0      2014-09-02\n",
       "3                4           8000.0      2014-09-02\n",
       "4                5           6655.0      2014-09-02\n",
       "...            ...              ...             ...\n",
       "412914      412915          10000.0      2021-12-07\n",
       "412915      412916           8500.0      2021-12-07\n",
       "412916      412917           6500.0      2021-12-07\n",
       "412917      412918           5500.0      2021-12-07\n",
       "412918      412919           6000.0      2021-12-08\n",
       "\n",
       "[412919 rows x 3 columns]"
      ]
     },
     "execution_count": 131,
     "metadata": {},
     "output_type": "execute_result"
    }
   ],
   "source": [
    "df1=pd.read_csv(path+r\"/dealership_purchases.csv\")\n",
    "df1.describe()\n",
    "df1"
   ]
  },
  {
   "cell_type": "code",
   "execution_count": 132,
   "metadata": {
    "collapsed": true
   },
   "outputs": [
    {
     "data": {
      "text/html": [
       "<div>\n",
       "<style scoped>\n",
       "    .dataframe tbody tr th:only-of-type {\n",
       "        vertical-align: middle;\n",
       "    }\n",
       "\n",
       "    .dataframe tbody tr th {\n",
       "        vertical-align: top;\n",
       "    }\n",
       "\n",
       "    .dataframe thead th {\n",
       "        text-align: right;\n",
       "    }\n",
       "</style>\n",
       "<table border=\"1\" class=\"dataframe\">\n",
       "  <thead>\n",
       "    <tr style=\"text-align: right;\">\n",
       "      <th></th>\n",
       "      <th>vehicle_ID</th>\n",
       "      <th>sales_price</th>\n",
       "      <th>odometer_reading</th>\n",
       "    </tr>\n",
       "  </thead>\n",
       "  <tbody>\n",
       "    <tr>\n",
       "      <th>count</th>\n",
       "      <td>412919.000000</td>\n",
       "      <td>412919.000000</td>\n",
       "      <td>412919.000000</td>\n",
       "    </tr>\n",
       "    <tr>\n",
       "      <th>mean</th>\n",
       "      <td>206460.000000</td>\n",
       "      <td>12086.509595</td>\n",
       "      <td>67555.123676</td>\n",
       "    </tr>\n",
       "    <tr>\n",
       "      <th>std</th>\n",
       "      <td>119199.592239</td>\n",
       "      <td>846.129661</td>\n",
       "      <td>34267.314777</td>\n",
       "    </tr>\n",
       "    <tr>\n",
       "      <th>min</th>\n",
       "      <td>1.000000</td>\n",
       "      <td>10500.010000</td>\n",
       "      <td>501.000000</td>\n",
       "    </tr>\n",
       "    <tr>\n",
       "      <th>25%</th>\n",
       "      <td>103230.500000</td>\n",
       "      <td>11386.000000</td>\n",
       "      <td>44053.500000</td>\n",
       "    </tr>\n",
       "    <tr>\n",
       "      <th>50%</th>\n",
       "      <td>206460.000000</td>\n",
       "      <td>12000.000000</td>\n",
       "      <td>64811.000000</td>\n",
       "    </tr>\n",
       "    <tr>\n",
       "      <th>75%</th>\n",
       "      <td>309689.500000</td>\n",
       "      <td>12888.000000</td>\n",
       "      <td>86897.000000</td>\n",
       "    </tr>\n",
       "    <tr>\n",
       "      <th>max</th>\n",
       "      <td>412919.000000</td>\n",
       "      <td>13499.990000</td>\n",
       "      <td>977356.000000</td>\n",
       "    </tr>\n",
       "  </tbody>\n",
       "</table>\n",
       "</div>"
      ],
      "text/plain": [
       "          vehicle_ID    sales_price  odometer_reading\n",
       "count  412919.000000  412919.000000     412919.000000\n",
       "mean   206460.000000   12086.509595      67555.123676\n",
       "std    119199.592239     846.129661      34267.314777\n",
       "min         1.000000   10500.010000        501.000000\n",
       "25%    103230.500000   11386.000000      44053.500000\n",
       "50%    206460.000000   12000.000000      64811.000000\n",
       "75%    309689.500000   12888.000000      86897.000000\n",
       "max    412919.000000   13499.990000     977356.000000"
      ]
     },
     "execution_count": 132,
     "metadata": {},
     "output_type": "execute_result"
    },
    {
     "data": {
      "text/html": [
       "<div>\n",
       "<style scoped>\n",
       "    .dataframe tbody tr th:only-of-type {\n",
       "        vertical-align: middle;\n",
       "    }\n",
       "\n",
       "    .dataframe tbody tr th {\n",
       "        vertical-align: top;\n",
       "    }\n",
       "\n",
       "    .dataframe thead th {\n",
       "        text-align: right;\n",
       "    }\n",
       "</style>\n",
       "<table border=\"1\" class=\"dataframe\">\n",
       "  <thead>\n",
       "    <tr style=\"text-align: right;\">\n",
       "      <th></th>\n",
       "      <th>vehicle_ID</th>\n",
       "      <th>sales_price</th>\n",
       "      <th>odometer_reading</th>\n",
       "      <th>sale_date</th>\n",
       "    </tr>\n",
       "  </thead>\n",
       "  <tbody>\n",
       "    <tr>\n",
       "      <th>0</th>\n",
       "      <td>1</td>\n",
       "      <td>13365.00</td>\n",
       "      <td>78025.0</td>\n",
       "      <td>2014-10-06</td>\n",
       "    </tr>\n",
       "    <tr>\n",
       "      <th>1</th>\n",
       "      <td>2</td>\n",
       "      <td>11144.00</td>\n",
       "      <td>47978.0</td>\n",
       "      <td>2014-10-15</td>\n",
       "    </tr>\n",
       "    <tr>\n",
       "      <th>2</th>\n",
       "      <td>3</td>\n",
       "      <td>12540.00</td>\n",
       "      <td>120372.0</td>\n",
       "      <td>2014-09-02</td>\n",
       "    </tr>\n",
       "    <tr>\n",
       "      <th>3</th>\n",
       "      <td>4</td>\n",
       "      <td>11113.00</td>\n",
       "      <td>91282.0</td>\n",
       "      <td>2014-10-02</td>\n",
       "    </tr>\n",
       "    <tr>\n",
       "      <th>4</th>\n",
       "      <td>5</td>\n",
       "      <td>10700.00</td>\n",
       "      <td>59408.0</td>\n",
       "      <td>2014-09-19</td>\n",
       "    </tr>\n",
       "    <tr>\n",
       "      <th>...</th>\n",
       "      <td>...</td>\n",
       "      <td>...</td>\n",
       "      <td>...</td>\n",
       "      <td>...</td>\n",
       "    </tr>\n",
       "    <tr>\n",
       "      <th>412914</th>\n",
       "      <td>412915</td>\n",
       "      <td>12995.00</td>\n",
       "      <td>76305.0</td>\n",
       "      <td>2021-12-07</td>\n",
       "    </tr>\n",
       "    <tr>\n",
       "      <th>412915</th>\n",
       "      <td>412916</td>\n",
       "      <td>12592.71</td>\n",
       "      <td>100982.0</td>\n",
       "      <td>2021-12-07</td>\n",
       "    </tr>\n",
       "    <tr>\n",
       "      <th>412916</th>\n",
       "      <td>412917</td>\n",
       "      <td>13196.58</td>\n",
       "      <td>175578.0</td>\n",
       "      <td>2021-12-07</td>\n",
       "    </tr>\n",
       "    <tr>\n",
       "      <th>412917</th>\n",
       "      <td>412918</td>\n",
       "      <td>10600.00</td>\n",
       "      <td>76067.0</td>\n",
       "      <td>2021-12-07</td>\n",
       "    </tr>\n",
       "    <tr>\n",
       "      <th>412918</th>\n",
       "      <td>412919</td>\n",
       "      <td>12098.00</td>\n",
       "      <td>122321.0</td>\n",
       "      <td>2021-12-08</td>\n",
       "    </tr>\n",
       "  </tbody>\n",
       "</table>\n",
       "<p>412919 rows × 4 columns</p>\n",
       "</div>"
      ],
      "text/plain": [
       "        vehicle_ID  sales_price  odometer_reading   sale_date\n",
       "0                1     13365.00           78025.0  2014-10-06\n",
       "1                2     11144.00           47978.0  2014-10-15\n",
       "2                3     12540.00          120372.0  2014-09-02\n",
       "3                4     11113.00           91282.0  2014-10-02\n",
       "4                5     10700.00           59408.0  2014-09-19\n",
       "...            ...          ...               ...         ...\n",
       "412914      412915     12995.00           76305.0  2021-12-07\n",
       "412915      412916     12592.71          100982.0  2021-12-07\n",
       "412916      412917     13196.58          175578.0  2021-12-07\n",
       "412917      412918     10600.00           76067.0  2021-12-07\n",
       "412918      412919     12098.00          122321.0  2021-12-08\n",
       "\n",
       "[412919 rows x 4 columns]"
      ]
     },
     "execution_count": 132,
     "metadata": {},
     "output_type": "execute_result"
    }
   ],
   "source": [
    "df2=pd.read_csv(path+r\"/dealership_sales.csv\")\n",
    "df2.describe()\n",
    "df2"
   ]
  },
  {
   "cell_type": "code",
   "execution_count": 133,
   "metadata": {
    "collapsed": true
   },
   "outputs": [
    {
     "data": {
      "text/html": [
       "<div>\n",
       "<style scoped>\n",
       "    .dataframe tbody tr th:only-of-type {\n",
       "        vertical-align: middle;\n",
       "    }\n",
       "\n",
       "    .dataframe tbody tr th {\n",
       "        vertical-align: top;\n",
       "    }\n",
       "\n",
       "    .dataframe thead th {\n",
       "        text-align: right;\n",
       "    }\n",
       "</style>\n",
       "<table border=\"1\" class=\"dataframe\">\n",
       "  <thead>\n",
       "    <tr style=\"text-align: right;\">\n",
       "      <th></th>\n",
       "      <th>vehicle_ID</th>\n",
       "      <th>make_ID</th>\n",
       "      <th>model_ID</th>\n",
       "      <th>model_year</th>\n",
       "    </tr>\n",
       "  </thead>\n",
       "  <tbody>\n",
       "    <tr>\n",
       "      <th>count</th>\n",
       "      <td>412919.000000</td>\n",
       "      <td>412919.000000</td>\n",
       "      <td>412919.000000</td>\n",
       "      <td>412914.000000</td>\n",
       "    </tr>\n",
       "    <tr>\n",
       "      <th>mean</th>\n",
       "      <td>206460.000000</td>\n",
       "      <td>34.940911</td>\n",
       "      <td>417.853092</td>\n",
       "      <td>2012.817996</td>\n",
       "    </tr>\n",
       "    <tr>\n",
       "      <th>std</th>\n",
       "      <td>119199.592239</td>\n",
       "      <td>19.269252</td>\n",
       "      <td>258.937813</td>\n",
       "      <td>2.720135</td>\n",
       "    </tr>\n",
       "    <tr>\n",
       "      <th>min</th>\n",
       "      <td>1.000000</td>\n",
       "      <td>1.000000</td>\n",
       "      <td>1.000000</td>\n",
       "      <td>1980.000000</td>\n",
       "    </tr>\n",
       "    <tr>\n",
       "      <th>25%</th>\n",
       "      <td>103230.500000</td>\n",
       "      <td>21.000000</td>\n",
       "      <td>169.000000</td>\n",
       "      <td>2011.000000</td>\n",
       "    </tr>\n",
       "    <tr>\n",
       "      <th>50%</th>\n",
       "      <td>206460.000000</td>\n",
       "      <td>30.000000</td>\n",
       "      <td>371.000000</td>\n",
       "      <td>2013.000000</td>\n",
       "    </tr>\n",
       "    <tr>\n",
       "      <th>75%</th>\n",
       "      <td>309689.500000</td>\n",
       "      <td>52.000000</td>\n",
       "      <td>656.000000</td>\n",
       "      <td>2015.000000</td>\n",
       "    </tr>\n",
       "    <tr>\n",
       "      <th>max</th>\n",
       "      <td>412919.000000</td>\n",
       "      <td>73.000000</td>\n",
       "      <td>942.000000</td>\n",
       "      <td>2022.000000</td>\n",
       "    </tr>\n",
       "  </tbody>\n",
       "</table>\n",
       "</div>"
      ],
      "text/plain": [
       "          vehicle_ID        make_ID       model_ID     model_year\n",
       "count  412919.000000  412919.000000  412919.000000  412914.000000\n",
       "mean   206460.000000      34.940911     417.853092    2012.817996\n",
       "std    119199.592239      19.269252     258.937813       2.720135\n",
       "min         1.000000       1.000000       1.000000    1980.000000\n",
       "25%    103230.500000      21.000000     169.000000    2011.000000\n",
       "50%    206460.000000      30.000000     371.000000    2013.000000\n",
       "75%    309689.500000      52.000000     656.000000    2015.000000\n",
       "max    412919.000000      73.000000     942.000000    2022.000000"
      ]
     },
     "execution_count": 133,
     "metadata": {},
     "output_type": "execute_result"
    },
    {
     "data": {
      "text/html": [
       "<div>\n",
       "<style scoped>\n",
       "    .dataframe tbody tr th:only-of-type {\n",
       "        vertical-align: middle;\n",
       "    }\n",
       "\n",
       "    .dataframe tbody tr th {\n",
       "        vertical-align: top;\n",
       "    }\n",
       "\n",
       "    .dataframe thead th {\n",
       "        text-align: right;\n",
       "    }\n",
       "</style>\n",
       "<table border=\"1\" class=\"dataframe\">\n",
       "  <thead>\n",
       "    <tr style=\"text-align: right;\">\n",
       "      <th></th>\n",
       "      <th>vehicle_ID</th>\n",
       "      <th>make_ID</th>\n",
       "      <th>model_ID</th>\n",
       "      <th>model_year</th>\n",
       "    </tr>\n",
       "  </thead>\n",
       "  <tbody>\n",
       "    <tr>\n",
       "      <th>0</th>\n",
       "      <td>1</td>\n",
       "      <td>67</td>\n",
       "      <td>124</td>\n",
       "      <td>2011.0</td>\n",
       "    </tr>\n",
       "    <tr>\n",
       "      <th>1</th>\n",
       "      <td>2</td>\n",
       "      <td>67</td>\n",
       "      <td>927</td>\n",
       "      <td>2010.0</td>\n",
       "    </tr>\n",
       "    <tr>\n",
       "      <th>2</th>\n",
       "      <td>3</td>\n",
       "      <td>9</td>\n",
       "      <td>885</td>\n",
       "      <td>2005.0</td>\n",
       "    </tr>\n",
       "    <tr>\n",
       "      <th>3</th>\n",
       "      <td>4</td>\n",
       "      <td>52</td>\n",
       "      <td>682</td>\n",
       "      <td>2008.0</td>\n",
       "    </tr>\n",
       "    <tr>\n",
       "      <th>4</th>\n",
       "      <td>5</td>\n",
       "      <td>34</td>\n",
       "      <td>475</td>\n",
       "      <td>2006.0</td>\n",
       "    </tr>\n",
       "    <tr>\n",
       "      <th>...</th>\n",
       "      <td>...</td>\n",
       "      <td>...</td>\n",
       "      <td>...</td>\n",
       "      <td>...</td>\n",
       "    </tr>\n",
       "    <tr>\n",
       "      <th>412914</th>\n",
       "      <td>412915</td>\n",
       "      <td>67</td>\n",
       "      <td>169</td>\n",
       "      <td>2016.0</td>\n",
       "    </tr>\n",
       "    <tr>\n",
       "      <th>412915</th>\n",
       "      <td>412916</td>\n",
       "      <td>9</td>\n",
       "      <td>883</td>\n",
       "      <td>2014.0</td>\n",
       "    </tr>\n",
       "    <tr>\n",
       "      <th>412916</th>\n",
       "      <td>412917</td>\n",
       "      <td>52</td>\n",
       "      <td>85</td>\n",
       "      <td>2011.0</td>\n",
       "    </tr>\n",
       "    <tr>\n",
       "      <th>412917</th>\n",
       "      <td>412918</td>\n",
       "      <td>64</td>\n",
       "      <td>483</td>\n",
       "      <td>2012.0</td>\n",
       "    </tr>\n",
       "    <tr>\n",
       "      <th>412918</th>\n",
       "      <td>412919</td>\n",
       "      <td>27</td>\n",
       "      <td>610</td>\n",
       "      <td>2011.0</td>\n",
       "    </tr>\n",
       "  </tbody>\n",
       "</table>\n",
       "<p>412919 rows × 4 columns</p>\n",
       "</div>"
      ],
      "text/plain": [
       "        vehicle_ID  make_ID  model_ID  model_year\n",
       "0                1       67       124      2011.0\n",
       "1                2       67       927      2010.0\n",
       "2                3        9       885      2005.0\n",
       "3                4       52       682      2008.0\n",
       "4                5       34       475      2006.0\n",
       "...            ...      ...       ...         ...\n",
       "412914      412915       67       169      2016.0\n",
       "412915      412916        9       883      2014.0\n",
       "412916      412917       52        85      2011.0\n",
       "412917      412918       64       483      2012.0\n",
       "412918      412919       27       610      2011.0\n",
       "\n",
       "[412919 rows x 4 columns]"
      ]
     },
     "execution_count": 133,
     "metadata": {},
     "output_type": "execute_result"
    }
   ],
   "source": [
    "df3=pd.read_csv(path+r\"/vehicle_information.csv\")\n",
    "df3.describe()\n",
    "df3"
   ]
  },
  {
   "cell_type": "code",
   "execution_count": 134,
   "metadata": {},
   "outputs": [
    {
     "data": {
      "text/html": [
       "<div>\n",
       "<style scoped>\n",
       "    .dataframe tbody tr th:only-of-type {\n",
       "        vertical-align: middle;\n",
       "    }\n",
       "\n",
       "    .dataframe tbody tr th {\n",
       "        vertical-align: top;\n",
       "    }\n",
       "\n",
       "    .dataframe thead th {\n",
       "        text-align: right;\n",
       "    }\n",
       "</style>\n",
       "<table border=\"1\" class=\"dataframe\">\n",
       "  <thead>\n",
       "    <tr style=\"text-align: right;\">\n",
       "      <th></th>\n",
       "      <th>vehicle_ID</th>\n",
       "      <th>aquisition_cost</th>\n",
       "      <th>aquisition_date</th>\n",
       "      <th>sales_price</th>\n",
       "      <th>odometer_reading</th>\n",
       "      <th>sale_date</th>\n",
       "      <th>make_ID</th>\n",
       "      <th>model_ID</th>\n",
       "      <th>model_year</th>\n",
       "    </tr>\n",
       "  </thead>\n",
       "  <tbody>\n",
       "    <tr>\n",
       "      <th>0</th>\n",
       "      <td>1</td>\n",
       "      <td>9500.0</td>\n",
       "      <td>2014-09-02</td>\n",
       "      <td>13365.00</td>\n",
       "      <td>78025.0</td>\n",
       "      <td>2014-10-06</td>\n",
       "      <td>67</td>\n",
       "      <td>124</td>\n",
       "      <td>2011.0</td>\n",
       "    </tr>\n",
       "    <tr>\n",
       "      <th>1</th>\n",
       "      <td>2</td>\n",
       "      <td>8500.0</td>\n",
       "      <td>2014-09-02</td>\n",
       "      <td>11144.00</td>\n",
       "      <td>47978.0</td>\n",
       "      <td>2014-10-15</td>\n",
       "      <td>67</td>\n",
       "      <td>927</td>\n",
       "      <td>2010.0</td>\n",
       "    </tr>\n",
       "    <tr>\n",
       "      <th>2</th>\n",
       "      <td>3</td>\n",
       "      <td>5700.0</td>\n",
       "      <td>2014-09-02</td>\n",
       "      <td>12540.00</td>\n",
       "      <td>120372.0</td>\n",
       "      <td>2014-09-02</td>\n",
       "      <td>9</td>\n",
       "      <td>885</td>\n",
       "      <td>2005.0</td>\n",
       "    </tr>\n",
       "    <tr>\n",
       "      <th>3</th>\n",
       "      <td>4</td>\n",
       "      <td>8000.0</td>\n",
       "      <td>2014-09-02</td>\n",
       "      <td>11113.00</td>\n",
       "      <td>91282.0</td>\n",
       "      <td>2014-10-02</td>\n",
       "      <td>52</td>\n",
       "      <td>682</td>\n",
       "      <td>2008.0</td>\n",
       "    </tr>\n",
       "    <tr>\n",
       "      <th>4</th>\n",
       "      <td>5</td>\n",
       "      <td>6655.0</td>\n",
       "      <td>2014-09-02</td>\n",
       "      <td>10700.00</td>\n",
       "      <td>59408.0</td>\n",
       "      <td>2014-09-19</td>\n",
       "      <td>34</td>\n",
       "      <td>475</td>\n",
       "      <td>2006.0</td>\n",
       "    </tr>\n",
       "    <tr>\n",
       "      <th>...</th>\n",
       "      <td>...</td>\n",
       "      <td>...</td>\n",
       "      <td>...</td>\n",
       "      <td>...</td>\n",
       "      <td>...</td>\n",
       "      <td>...</td>\n",
       "      <td>...</td>\n",
       "      <td>...</td>\n",
       "      <td>...</td>\n",
       "    </tr>\n",
       "    <tr>\n",
       "      <th>412914</th>\n",
       "      <td>412915</td>\n",
       "      <td>10000.0</td>\n",
       "      <td>2021-12-07</td>\n",
       "      <td>12995.00</td>\n",
       "      <td>76305.0</td>\n",
       "      <td>2021-12-07</td>\n",
       "      <td>67</td>\n",
       "      <td>169</td>\n",
       "      <td>2016.0</td>\n",
       "    </tr>\n",
       "    <tr>\n",
       "      <th>412915</th>\n",
       "      <td>412916</td>\n",
       "      <td>8500.0</td>\n",
       "      <td>2021-12-07</td>\n",
       "      <td>12592.71</td>\n",
       "      <td>100982.0</td>\n",
       "      <td>2021-12-07</td>\n",
       "      <td>9</td>\n",
       "      <td>883</td>\n",
       "      <td>2014.0</td>\n",
       "    </tr>\n",
       "    <tr>\n",
       "      <th>412916</th>\n",
       "      <td>412917</td>\n",
       "      <td>6500.0</td>\n",
       "      <td>2021-12-07</td>\n",
       "      <td>13196.58</td>\n",
       "      <td>175578.0</td>\n",
       "      <td>2021-12-07</td>\n",
       "      <td>52</td>\n",
       "      <td>85</td>\n",
       "      <td>2011.0</td>\n",
       "    </tr>\n",
       "    <tr>\n",
       "      <th>412917</th>\n",
       "      <td>412918</td>\n",
       "      <td>5500.0</td>\n",
       "      <td>2021-12-07</td>\n",
       "      <td>10600.00</td>\n",
       "      <td>76067.0</td>\n",
       "      <td>2021-12-07</td>\n",
       "      <td>64</td>\n",
       "      <td>483</td>\n",
       "      <td>2012.0</td>\n",
       "    </tr>\n",
       "    <tr>\n",
       "      <th>412918</th>\n",
       "      <td>412919</td>\n",
       "      <td>6000.0</td>\n",
       "      <td>2021-12-08</td>\n",
       "      <td>12098.00</td>\n",
       "      <td>122321.0</td>\n",
       "      <td>2021-12-08</td>\n",
       "      <td>27</td>\n",
       "      <td>610</td>\n",
       "      <td>2011.0</td>\n",
       "    </tr>\n",
       "  </tbody>\n",
       "</table>\n",
       "<p>412919 rows × 9 columns</p>\n",
       "</div>"
      ],
      "text/plain": [
       "        vehicle_ID  aquisition_cost aquisition_date  sales_price  \\\n",
       "0                1           9500.0      2014-09-02     13365.00   \n",
       "1                2           8500.0      2014-09-02     11144.00   \n",
       "2                3           5700.0      2014-09-02     12540.00   \n",
       "3                4           8000.0      2014-09-02     11113.00   \n",
       "4                5           6655.0      2014-09-02     10700.00   \n",
       "...            ...              ...             ...          ...   \n",
       "412914      412915          10000.0      2021-12-07     12995.00   \n",
       "412915      412916           8500.0      2021-12-07     12592.71   \n",
       "412916      412917           6500.0      2021-12-07     13196.58   \n",
       "412917      412918           5500.0      2021-12-07     10600.00   \n",
       "412918      412919           6000.0      2021-12-08     12098.00   \n",
       "\n",
       "        odometer_reading   sale_date  make_ID  model_ID  model_year  \n",
       "0                78025.0  2014-10-06       67       124      2011.0  \n",
       "1                47978.0  2014-10-15       67       927      2010.0  \n",
       "2               120372.0  2014-09-02        9       885      2005.0  \n",
       "3                91282.0  2014-10-02       52       682      2008.0  \n",
       "4                59408.0  2014-09-19       34       475      2006.0  \n",
       "...                  ...         ...      ...       ...         ...  \n",
       "412914           76305.0  2021-12-07       67       169      2016.0  \n",
       "412915          100982.0  2021-12-07        9       883      2014.0  \n",
       "412916          175578.0  2021-12-07       52        85      2011.0  \n",
       "412917           76067.0  2021-12-07       64       483      2012.0  \n",
       "412918          122321.0  2021-12-08       27       610      2011.0  \n",
       "\n",
       "[412919 rows x 9 columns]"
      ]
     },
     "execution_count": 134,
     "metadata": {},
     "output_type": "execute_result"
    }
   ],
   "source": [
    "df=df1.merge(df2,on='vehicle_ID', how='outer').merge(df3,on='vehicle_ID', how='outer')\n",
    "df"
   ]
  },
  {
   "cell_type": "markdown",
   "metadata": {},
   "source": [
    "# Summarizing"
   ]
  },
  {
   "cell_type": "code",
   "execution_count": 135,
   "metadata": {},
   "outputs": [
    {
     "data": {
      "text/plain": [
       "str"
      ]
     },
     "execution_count": 135,
     "metadata": {},
     "output_type": "execute_result"
    },
    {
     "data": {
      "text/plain": [
       "pandas._libs.tslibs.timestamps.Timestamp"
      ]
     },
     "execution_count": 135,
     "metadata": {},
     "output_type": "execute_result"
    }
   ],
   "source": [
    "##task1\n",
    "type(df['aquisition_date'][0])\n",
    "df['aquisition_date']=df['aquisition_date'].apply(lambda x:  datetime.strptime(x,'%Y-%m-%d'))\n",
    "df['sale_date']=df['sale_date'].apply(lambda x:  datetime.strptime(x,'%Y-%m-%d'))\n",
    "type(df['aquisition_date'][0])"
   ]
  },
  {
   "cell_type": "code",
   "execution_count": 136,
   "metadata": {},
   "outputs": [
    {
     "data": {
      "text/plain": [
       "18445"
      ]
     },
     "execution_count": 136,
     "metadata": {},
     "output_type": "execute_result"
    },
    {
     "data": {
      "text/plain": [
       "0.04466977784989308"
      ]
     },
     "execution_count": 136,
     "metadata": {},
     "output_type": "execute_result"
    }
   ],
   "source": [
    "##task2\n",
    "df['timedelta']=df['sale_date']-df['aquisition_date']\n",
    "len(df[df['timedelta']>=timedelta(days=183)])\n",
    "len(df[df['timedelta']>=timedelta(days=183)])/len(df)"
   ]
  },
  {
   "cell_type": "code",
   "execution_count": null,
   "metadata": {},
   "outputs": [],
   "source": [
    "##task2\n",
    "df.drop(df[df['timedelta']>=timedelta(days=183)].index, axis=0,inplace=True)"
   ]
  },
  {
   "cell_type": "code",
   "execution_count": 113,
   "metadata": {},
   "outputs": [],
   "source": [
    "summary=df.describe().loc[['mean','std','min','max'],['sales_price','aquisition_cost','model_year','odometer_reading']]\n",
    "summary=summary.applymap(lambda x: \"{:.2f}\".format(x))\n",
    "\n",
    "summary.to_excel(path+r\"/summary2.xlsx\")\n",
    "summary.to_latex(path+r\"/summary2.tex\")"
   ]
  },
  {
   "cell_type": "code",
   "execution_count": 115,
   "metadata": {},
   "outputs": [],
   "source": [
    "##task3\n",
    "temp=pd.DataFrame(collections.Counter(df['make_ID']).most_common(5),columns=['Make_ID','Frequency'])\n",
    "temp.to_excel(path+r\"/summary3_1.xlsx\")\n",
    "temp.to_latex(path+r\"/summary3_1.tex\")\n",
    "temp=pd.DataFrame(collections.Counter(df['model_ID']).most_common(5),columns=['Model_ID','Frequency'])\n",
    "temp.to_latex(path+r\"/summary3_2.tex\")"
   ]
  },
  {
   "cell_type": "code",
   "execution_count": 27,
   "metadata": {
    "scrolled": true
   },
   "outputs": [
    {
     "data": {
      "text/plain": [
       "(array([  826.,  1337.,  1106.,  1482.,   879.,  1411.,  2615.,   771.,\n",
       "          841.,  1203.,   751.,   888.,  1595.,  2096.,   878.,   802.,\n",
       "         1894.,   834.,  1278.,  3479.,   811.,   839.,   828.,  1144.,\n",
       "          897.,  2005.,  4049.,   964.,  1101.,  1949.,  1196.,  2205.,\n",
       "        13903., 11659.,  1366.,   990.,  1068.,   750.,   747.,  1673.,\n",
       "          625.,   834.,   812.,   998.,   818.,  1457.,  2380.,   807.,\n",
       "          880.,  1848.,   828.,  1025.,  1849.,  2335.,   860.,   817.,\n",
       "         1101.,   812.,  1125.,  3094.,   835.,   950.,   969.,  1584.,\n",
       "         1593.,  3029., 10313.,   908.,   945.,  1183.,   889.,  1037.,\n",
       "         1897.,  2476.,   790.,   749.,  1261.,   839.,  1229.,  3334.,\n",
       "          857.,   944.,  1059.,  1978.,  1057.,  1798.,  3377.,   776.,\n",
       "          859.,  1411.,   932.,  1463.,  2714.,  3965.,  1453.,  1861.,\n",
       "         2698.,  1958.,  3454., 17823.,  7532.,   750.,   757.,   958.,\n",
       "          741.,   971.,  1774.,   804.,   952.,  1126.,  1126.,  1067.,\n",
       "         1669.,  2500.,   928.,   937.,  2037.,   892.,  1156.,  2403.,\n",
       "         2012.,   916.,  1017.,  1419.,  1003.,  1648.,  3497.,  1385.,\n",
       "         1524.,  1362.,  1606.,  1332.,  3782., 10719.,   908.,   980.,\n",
       "         1263.,   942.,  1326.,  3013.,  1827.,  1025.,   951.,  1457.,\n",
       "          999.,  1668.,  3286.,   900.,   988.,  1232.,  1992.,  1395.,\n",
       "         2121.,  3486.,  1041.,  1119.,  1622.,  1510.,  2563.,  3891.,\n",
       "         4385.,  1402.,  1426.,  2206.,  1627.,  6528., 24201.,   752.,\n",
       "          808.,   897.,  1051.,   948.,  1238.,  1891.,   907.,  1019.,\n",
       "         1416.,   924.,  1322.,  2225.,  2199.,   948.,   983.,  2267.,\n",
       "          991.,  1707.,  3740.,   927.,  1283.,  1671.,  1664.,  1520.,\n",
       "         2073.,  2763.,   952.,  1127.,  1735.,  1096.,  1998.,  6188.]),\n",
       " array([10500.01  , 10515.0099, 10530.0098, 10545.0097, 10560.0096,\n",
       "        10575.0095, 10590.0094, 10605.0093, 10620.0092, 10635.0091,\n",
       "        10650.009 , 10665.0089, 10680.0088, 10695.0087, 10710.0086,\n",
       "        10725.0085, 10740.0084, 10755.0083, 10770.0082, 10785.0081,\n",
       "        10800.008 , 10815.0079, 10830.0078, 10845.0077, 10860.0076,\n",
       "        10875.0075, 10890.0074, 10905.0073, 10920.0072, 10935.0071,\n",
       "        10950.007 , 10965.0069, 10980.0068, 10995.0067, 11010.0066,\n",
       "        11025.0065, 11040.0064, 11055.0063, 11070.0062, 11085.0061,\n",
       "        11100.006 , 11115.0059, 11130.0058, 11145.0057, 11160.0056,\n",
       "        11175.0055, 11190.0054, 11205.0053, 11220.0052, 11235.0051,\n",
       "        11250.005 , 11265.0049, 11280.0048, 11295.0047, 11310.0046,\n",
       "        11325.0045, 11340.0044, 11355.0043, 11370.0042, 11385.0041,\n",
       "        11400.004 , 11415.0039, 11430.0038, 11445.0037, 11460.0036,\n",
       "        11475.0035, 11490.0034, 11505.0033, 11520.0032, 11535.0031,\n",
       "        11550.003 , 11565.0029, 11580.0028, 11595.0027, 11610.0026,\n",
       "        11625.0025, 11640.0024, 11655.0023, 11670.0022, 11685.0021,\n",
       "        11700.002 , 11715.0019, 11730.0018, 11745.0017, 11760.0016,\n",
       "        11775.0015, 11790.0014, 11805.0013, 11820.0012, 11835.0011,\n",
       "        11850.001 , 11865.0009, 11880.0008, 11895.0007, 11910.0006,\n",
       "        11925.0005, 11940.0004, 11955.0003, 11970.0002, 11985.0001,\n",
       "        12000.    , 12014.9999, 12029.9998, 12044.9997, 12059.9996,\n",
       "        12074.9995, 12089.9994, 12104.9993, 12119.9992, 12134.9991,\n",
       "        12149.999 , 12164.9989, 12179.9988, 12194.9987, 12209.9986,\n",
       "        12224.9985, 12239.9984, 12254.9983, 12269.9982, 12284.9981,\n",
       "        12299.998 , 12314.9979, 12329.9978, 12344.9977, 12359.9976,\n",
       "        12374.9975, 12389.9974, 12404.9973, 12419.9972, 12434.9971,\n",
       "        12449.997 , 12464.9969, 12479.9968, 12494.9967, 12509.9966,\n",
       "        12524.9965, 12539.9964, 12554.9963, 12569.9962, 12584.9961,\n",
       "        12599.996 , 12614.9959, 12629.9958, 12644.9957, 12659.9956,\n",
       "        12674.9955, 12689.9954, 12704.9953, 12719.9952, 12734.9951,\n",
       "        12749.995 , 12764.9949, 12779.9948, 12794.9947, 12809.9946,\n",
       "        12824.9945, 12839.9944, 12854.9943, 12869.9942, 12884.9941,\n",
       "        12899.994 , 12914.9939, 12929.9938, 12944.9937, 12959.9936,\n",
       "        12974.9935, 12989.9934, 13004.9933, 13019.9932, 13034.9931,\n",
       "        13049.993 , 13064.9929, 13079.9928, 13094.9927, 13109.9926,\n",
       "        13124.9925, 13139.9924, 13154.9923, 13169.9922, 13184.9921,\n",
       "        13199.992 , 13214.9919, 13229.9918, 13244.9917, 13259.9916,\n",
       "        13274.9915, 13289.9914, 13304.9913, 13319.9912, 13334.9911,\n",
       "        13349.991 , 13364.9909, 13379.9908, 13394.9907, 13409.9906,\n",
       "        13424.9905, 13439.9904, 13454.9903, 13469.9902, 13484.9901,\n",
       "        13499.99  ]),\n",
       " <a list of 200 Patch objects>)"
      ]
     },
     "execution_count": 27,
     "metadata": {},
     "output_type": "execute_result"
    },
    {
     "data": {
      "text/plain": [
       "Text(0.5, 0, 'Sales Price')"
      ]
     },
     "execution_count": 27,
     "metadata": {},
     "output_type": "execute_result"
    },
    {
     "data": {
      "text/plain": [
       "Text(0, 0.5, 'Frequency')"
      ]
     },
     "execution_count": 27,
     "metadata": {},
     "output_type": "execute_result"
    },
    {
     "data": {
      "text/plain": [
       "Text(0.5, 1.0, 'Sales Price of Vehicles')"
      ]
     },
     "execution_count": 27,
     "metadata": {},
     "output_type": "execute_result"
    },
    {
     "data": {
      "image/png": "[encoded data removed]",
      "text/plain": [
       "<Figure size 576x396 with 1 Axes>"
      ]
     },
     "metadata": {},
     "output_type": "display_data"
    }
   ],
   "source": [
    "##task4\n",
    "plt.style.use('seaborn')\n",
    "plt.hist(x = df['sales_price'].to_list(),bins = 200)\n",
    "plt.xlabel('Sales Price')\n",
    "plt.ylabel('Frequency')\n",
    "plt.title('Sales Price of Vehicles')\n",
    "plt.savefig(path+r\"/summary4.pdf\")\n",
    "plt.show()"
   ]
  },
  {
   "cell_type": "code",
   "execution_count": 28,
   "metadata": {},
   "outputs": [],
   "source": [
    "##task6\n",
    "#data source:https://www.txdmv.gov/standard-presumptive-calculator\n",
    "#Texans who buy a used vehicle from anyone other than a licensed vehicle dealer are required to pay motor vehicle sales tax of 6.25 percent on the purchase price or standard presumptive value (SPV), whichever is the highest value.\n",
    "df['price_plus_tax']=df['sales_price']*1.0625"
   ]
  },
  {
   "cell_type": "code",
   "execution_count": 29,
   "metadata": {
    "scrolled": true
   },
   "outputs": [
    {
     "data": {
      "text/plain": [
       "(array([  826.,  1337.,  1106.,  1482.,   879.,  1411.,  2615.,   771.,\n",
       "          841.,  1203.,   751.,   888.,  1595.,  2096.,   878.,   802.,\n",
       "         1894.,   834.,  1278.,  3479.,   811.,   839.,   828.,  1144.,\n",
       "          897.,  2005.,  4049.,   964.,  1101.,  1949.,  1196.,  2205.,\n",
       "        13903., 11659.,  1366.,   990.,  1068.,   750.,   747.,  1673.,\n",
       "          625.,   834.,   812.,   998.,   818.,  1457.,  2380.,   807.,\n",
       "          880.,  1848.,   828.,  1025.,  1849.,  2335.,   860.,   817.,\n",
       "         1101.,   812.,  1125.,  3094.,   835.,   950.,   969.,  1584.,\n",
       "         1593.,  3029., 10313.,   908.,   945.,  1183.,   889.,  1037.,\n",
       "         1897.,  2476.,   790.,   749.,  1261.,   839.,  1229.,  3334.,\n",
       "          857.,   944.,  1059.,  1978.,  1057.,  1798.,  3377.,   776.,\n",
       "          859.,  1411.,   932.,  1463.,  2714.,  3965.,  1453.,  1861.,\n",
       "         2698.,  1958.,  3454., 17823.,  7532.,   750.,   757.,   958.,\n",
       "          741.,   971.,  1774.,   804.,   952.,  1126.,  1126.,  1067.,\n",
       "         1669.,  2500.,   928.,   937.,  2037.,   892.,  1156.,  2403.,\n",
       "         2012.,   916.,  1017.,  1419.,  1003.,  1648.,  3497.,  1385.,\n",
       "         1524.,  1362.,  1606.,  1332.,  3782., 10719.,   908.,   980.,\n",
       "         1263.,   942.,  1326.,  3013.,  1827.,  1025.,   951.,  1457.,\n",
       "          999.,  1668.,  3286.,   900.,   988.,  1232.,  1992.,  1395.,\n",
       "         2121.,  3486.,  1041.,  1119.,  1622.,  1510.,  2563.,  3891.,\n",
       "         4385.,  1402.,  1426.,  2206.,  1627.,  6528., 24201.,   752.,\n",
       "          808.,   897.,  1051.,   948.,  1238.,  1891.,   907.,  1019.,\n",
       "         1416.,   924.,  1322.,  2225.,  2199.,   948.,   983.,  2267.,\n",
       "          991.,  1707.,  3740.,   927.,  1283.,  1671.,  1664.,  1520.,\n",
       "         2073.,  2763.,   952.,  1127.,  1735.,  1096.,  1998.,  6188.]),\n",
       " array([11156.260625  , 11172.19801875, 11188.1354125 , 11204.07280625,\n",
       "        11220.0102    , 11235.94759375, 11251.8849875 , 11267.82238125,\n",
       "        11283.759775  , 11299.69716875, 11315.6345625 , 11331.57195625,\n",
       "        11347.50935   , 11363.44674375, 11379.3841375 , 11395.32153125,\n",
       "        11411.258925  , 11427.19631875, 11443.1337125 , 11459.07110625,\n",
       "        11475.0085    , 11490.94589375, 11506.8832875 , 11522.82068125,\n",
       "        11538.758075  , 11554.69546875, 11570.6328625 , 11586.57025625,\n",
       "        11602.50765   , 11618.44504375, 11634.3824375 , 11650.31983125,\n",
       "        11666.257225  , 11682.19461875, 11698.1320125 , 11714.06940625,\n",
       "        11730.0068    , 11745.94419375, 11761.8815875 , 11777.81898125,\n",
       "        11793.756375  , 11809.69376875, 11825.6311625 , 11841.56855625,\n",
       "        11857.50595   , 11873.44334375, 11889.3807375 , 11905.31813125,\n",
       "        11921.255525  , 11937.19291875, 11953.1303125 , 11969.06770625,\n",
       "        11985.0051    , 12000.94249375, 12016.8798875 , 12032.81728125,\n",
       "        12048.754675  , 12064.69206875, 12080.6294625 , 12096.56685625,\n",
       "        12112.50425   , 12128.44164375, 12144.3790375 , 12160.31643125,\n",
       "        12176.253825  , 12192.19121875, 12208.1286125 , 12224.06600625,\n",
       "        12240.0034    , 12255.94079375, 12271.8781875 , 12287.81558125,\n",
       "        12303.752975  , 12319.69036875, 12335.6277625 , 12351.56515625,\n",
       "        12367.50255   , 12383.43994375, 12399.3773375 , 12415.31473125,\n",
       "        12431.252125  , 12447.18951875, 12463.1269125 , 12479.06430625,\n",
       "        12495.0017    , 12510.93909375, 12526.8764875 , 12542.81388125,\n",
       "        12558.751275  , 12574.68866875, 12590.6260625 , 12606.56345625,\n",
       "        12622.50085   , 12638.43824375, 12654.3756375 , 12670.31303125,\n",
       "        12686.250425  , 12702.18781875, 12718.1252125 , 12734.06260625,\n",
       "        12750.        , 12765.93739375, 12781.8747875 , 12797.81218125,\n",
       "        12813.749575  , 12829.68696875, 12845.6243625 , 12861.56175625,\n",
       "        12877.49915   , 12893.43654375, 12909.3739375 , 12925.31133125,\n",
       "        12941.248725  , 12957.18611875, 12973.1235125 , 12989.06090625,\n",
       "        13004.9983    , 13020.93569375, 13036.8730875 , 13052.81048125,\n",
       "        13068.747875  , 13084.68526875, 13100.6226625 , 13116.56005625,\n",
       "        13132.49745   , 13148.43484375, 13164.3722375 , 13180.30963125,\n",
       "        13196.247025  , 13212.18441875, 13228.1218125 , 13244.05920625,\n",
       "        13259.9966    , 13275.93399375, 13291.8713875 , 13307.80878125,\n",
       "        13323.746175  , 13339.68356875, 13355.6209625 , 13371.55835625,\n",
       "        13387.49575   , 13403.43314375, 13419.3705375 , 13435.30793125,\n",
       "        13451.245325  , 13467.18271875, 13483.1201125 , 13499.05750625,\n",
       "        13514.9949    , 13530.93229375, 13546.8696875 , 13562.80708125,\n",
       "        13578.744475  , 13594.68186875, 13610.6192625 , 13626.55665625,\n",
       "        13642.49405   , 13658.43144375, 13674.3688375 , 13690.30623125,\n",
       "        13706.243625  , 13722.18101875, 13738.1184125 , 13754.05580625,\n",
       "        13769.9932    , 13785.93059375, 13801.8679875 , 13817.80538125,\n",
       "        13833.742775  , 13849.68016875, 13865.6175625 , 13881.55495625,\n",
       "        13897.49235   , 13913.42974375, 13929.3671375 , 13945.30453125,\n",
       "        13961.241925  , 13977.17931875, 13993.1167125 , 14009.05410625,\n",
       "        14024.9915    , 14040.92889375, 14056.8662875 , 14072.80368125,\n",
       "        14088.741075  , 14104.67846875, 14120.6158625 , 14136.55325625,\n",
       "        14152.49065   , 14168.42804375, 14184.3654375 , 14200.30283125,\n",
       "        14216.240225  , 14232.17761875, 14248.1150125 , 14264.05240625,\n",
       "        14279.9898    , 14295.92719375, 14311.8645875 , 14327.80198125,\n",
       "        14343.739375  ]),\n",
       " <a list of 200 Patch objects>)"
      ]
     },
     "execution_count": 29,
     "metadata": {},
     "output_type": "execute_result"
    },
    {
     "data": {
      "text/plain": [
       "Text(0.5, 0, 'Sales Price')"
      ]
     },
     "execution_count": 29,
     "metadata": {},
     "output_type": "execute_result"
    },
    {
     "data": {
      "text/plain": [
       "Text(0, 0.5, 'Frequency')"
      ]
     },
     "execution_count": 29,
     "metadata": {},
     "output_type": "execute_result"
    },
    {
     "data": {
      "text/plain": [
       "Text(0.5, 1.0, 'Sales Price of Vehicles')"
      ]
     },
     "execution_count": 29,
     "metadata": {},
     "output_type": "execute_result"
    },
    {
     "data": {
      "image/png": "[encoded data removed]",
      "text/plain": [
       "<Figure size 576x396 with 1 Axes>"
      ]
     },
     "metadata": {},
     "output_type": "display_data"
    }
   ],
   "source": [
    "##task7\n",
    "plt.style.use('seaborn')\n",
    "plt.hist(x = df['price_plus_tax'].to_list(),bins = 200)\n",
    "plt.xlabel('Sales Price')\n",
    "plt.ylabel('Frequency')\n",
    "plt.title('Sales Price of Vehicles')\n",
    "plt.savefig(path+r\"/summary7.pdf\")\n",
    "plt.show()"
   ]
  },
  {
   "cell_type": "markdown",
   "metadata": {},
   "source": [
    "# Firm Profits"
   ]
  },
  {
   "cell_type": "code",
   "execution_count": 119,
   "metadata": {},
   "outputs": [
    {
     "data": {
      "text/plain": [
       "9251"
      ]
     },
     "execution_count": 119,
     "metadata": {},
     "output_type": "execute_result"
    },
    {
     "data": {
      "text/plain": [
       "0.02345148222696553"
      ]
     },
     "execution_count": 119,
     "metadata": {},
     "output_type": "execute_result"
    }
   ],
   "source": [
    "len(df[df['profit']<= -10000])\n",
    "len(df[df['profit']<= -10000])/len(df)"
   ]
  },
  {
   "cell_type": "code",
   "execution_count": 30,
   "metadata": {},
   "outputs": [
    {
     "data": {
      "text/plain": [
       "<matplotlib.axes._subplots.AxesSubplot at 0x17eaf451bc8>"
      ]
     },
     "execution_count": 30,
     "metadata": {},
     "output_type": "execute_result"
    },
    {
     "data": {
      "text/plain": [
       "Text(0.5, 0, 'Profits')"
      ]
     },
     "execution_count": 30,
     "metadata": {},
     "output_type": "execute_result"
    },
    {
     "data": {
      "text/plain": [
       "Text(0, 0.5, 'K-density')"
      ]
     },
     "execution_count": 30,
     "metadata": {},
     "output_type": "execute_result"
    },
    {
     "data": {
      "text/plain": [
       "Text(0.5, 1.0, 'Kernel Density Plot of Operating Profit (> -$10,000)')"
      ]
     },
     "execution_count": 30,
     "metadata": {},
     "output_type": "execute_result"
    },
    {
     "data": {
      "image/png": "[encoded data removed]",
      "text/plain": [
       "<Figure size 576x396 with 1 Axes>"
      ]
     },
     "metadata": {},
     "output_type": "display_data"
    }
   ],
   "source": [
    "##task1\n",
    "df['profit']=df['sales_price']-df['aquisition_cost']\n",
    "sns.kdeplot(df.loc[df['profit']>-10000,'profit'], shade=True)\n",
    "plt.xlabel('Profits')\n",
    "plt.ylabel('K-density')\n",
    "plt.title('Kernel Density Plot of Operating Profit (> -$10,000)')\n",
    "plt.savefig(path+r\"/profit1.pdf\")\n",
    "plt.show()"
   ]
  },
  {
   "cell_type": "code",
   "execution_count": 31,
   "metadata": {},
   "outputs": [
    {
     "data": {
      "text/html": [
       "<div>\n",
       "<style scoped>\n",
       "    .dataframe tbody tr th:only-of-type {\n",
       "        vertical-align: middle;\n",
       "    }\n",
       "\n",
       "    .dataframe tbody tr th {\n",
       "        vertical-align: top;\n",
       "    }\n",
       "\n",
       "    .dataframe thead th {\n",
       "        text-align: right;\n",
       "    }\n",
       "</style>\n",
       "<table border=\"1\" class=\"dataframe\">\n",
       "  <thead>\n",
       "    <tr style=\"text-align: right;\">\n",
       "      <th></th>\n",
       "      <th>vehicle_ID</th>\n",
       "      <th>aquisition_cost</th>\n",
       "      <th>aquisition_date</th>\n",
       "      <th>sales_price</th>\n",
       "      <th>odometer_reading</th>\n",
       "      <th>sale_date</th>\n",
       "      <th>make_ID</th>\n",
       "      <th>model_ID</th>\n",
       "      <th>model_year</th>\n",
       "      <th>timedelta</th>\n",
       "      <th>price_plus_tax</th>\n",
       "      <th>profit</th>\n",
       "      <th>price_level</th>\n",
       "      <th>price_range</th>\n",
       "    </tr>\n",
       "  </thead>\n",
       "  <tbody>\n",
       "    <tr>\n",
       "      <th>0</th>\n",
       "      <td>1</td>\n",
       "      <td>9500.0</td>\n",
       "      <td>2014-09-02</td>\n",
       "      <td>13365.00</td>\n",
       "      <td>78025.0</td>\n",
       "      <td>2014-10-06</td>\n",
       "      <td>67</td>\n",
       "      <td>124</td>\n",
       "      <td>2011.0</td>\n",
       "      <td>34 days</td>\n",
       "      <td>14200.312500</td>\n",
       "      <td>3865.00</td>\n",
       "      <td>57.0</td>\n",
       "      <td>\\$13350.0-\\$13399.0</td>\n",
       "    </tr>\n",
       "    <tr>\n",
       "      <th>1</th>\n",
       "      <td>2</td>\n",
       "      <td>8500.0</td>\n",
       "      <td>2014-09-02</td>\n",
       "      <td>11144.00</td>\n",
       "      <td>47978.0</td>\n",
       "      <td>2014-10-15</td>\n",
       "      <td>67</td>\n",
       "      <td>927</td>\n",
       "      <td>2010.0</td>\n",
       "      <td>43 days</td>\n",
       "      <td>11840.500000</td>\n",
       "      <td>2644.00</td>\n",
       "      <td>12.0</td>\n",
       "      <td>\\$11100.0-\\$11149.0</td>\n",
       "    </tr>\n",
       "    <tr>\n",
       "      <th>2</th>\n",
       "      <td>3</td>\n",
       "      <td>5700.0</td>\n",
       "      <td>2014-09-02</td>\n",
       "      <td>12540.00</td>\n",
       "      <td>120372.0</td>\n",
       "      <td>2014-09-02</td>\n",
       "      <td>9</td>\n",
       "      <td>885</td>\n",
       "      <td>2005.0</td>\n",
       "      <td>0 days</td>\n",
       "      <td>13323.750000</td>\n",
       "      <td>6840.00</td>\n",
       "      <td>40.0</td>\n",
       "      <td>\\$12500.0-\\$12549.0</td>\n",
       "    </tr>\n",
       "    <tr>\n",
       "      <th>3</th>\n",
       "      <td>4</td>\n",
       "      <td>8000.0</td>\n",
       "      <td>2014-09-02</td>\n",
       "      <td>11113.00</td>\n",
       "      <td>91282.0</td>\n",
       "      <td>2014-10-02</td>\n",
       "      <td>52</td>\n",
       "      <td>682</td>\n",
       "      <td>2008.0</td>\n",
       "      <td>30 days</td>\n",
       "      <td>11807.562500</td>\n",
       "      <td>3113.00</td>\n",
       "      <td>12.0</td>\n",
       "      <td>\\$11100.0-\\$11149.0</td>\n",
       "    </tr>\n",
       "    <tr>\n",
       "      <th>4</th>\n",
       "      <td>5</td>\n",
       "      <td>6655.0</td>\n",
       "      <td>2014-09-02</td>\n",
       "      <td>10700.00</td>\n",
       "      <td>59408.0</td>\n",
       "      <td>2014-09-19</td>\n",
       "      <td>34</td>\n",
       "      <td>475</td>\n",
       "      <td>2006.0</td>\n",
       "      <td>17 days</td>\n",
       "      <td>11368.750000</td>\n",
       "      <td>4045.00</td>\n",
       "      <td>4.0</td>\n",
       "      <td>\\$10700.0-\\$10749.0</td>\n",
       "    </tr>\n",
       "    <tr>\n",
       "      <th>...</th>\n",
       "      <td>...</td>\n",
       "      <td>...</td>\n",
       "      <td>...</td>\n",
       "      <td>...</td>\n",
       "      <td>...</td>\n",
       "      <td>...</td>\n",
       "      <td>...</td>\n",
       "      <td>...</td>\n",
       "      <td>...</td>\n",
       "      <td>...</td>\n",
       "      <td>...</td>\n",
       "      <td>...</td>\n",
       "      <td>...</td>\n",
       "      <td>...</td>\n",
       "    </tr>\n",
       "    <tr>\n",
       "      <th>412914</th>\n",
       "      <td>412915</td>\n",
       "      <td>10000.0</td>\n",
       "      <td>2021-12-07</td>\n",
       "      <td>12995.00</td>\n",
       "      <td>76305.0</td>\n",
       "      <td>2021-12-07</td>\n",
       "      <td>67</td>\n",
       "      <td>169</td>\n",
       "      <td>2016.0</td>\n",
       "      <td>0 days</td>\n",
       "      <td>13807.187500</td>\n",
       "      <td>2995.00</td>\n",
       "      <td>49.0</td>\n",
       "      <td>\\$12950.0-\\$12999.0</td>\n",
       "    </tr>\n",
       "    <tr>\n",
       "      <th>412915</th>\n",
       "      <td>412916</td>\n",
       "      <td>8500.0</td>\n",
       "      <td>2021-12-07</td>\n",
       "      <td>12592.71</td>\n",
       "      <td>100982.0</td>\n",
       "      <td>2021-12-07</td>\n",
       "      <td>9</td>\n",
       "      <td>883</td>\n",
       "      <td>2014.0</td>\n",
       "      <td>0 days</td>\n",
       "      <td>13379.754375</td>\n",
       "      <td>4092.71</td>\n",
       "      <td>41.0</td>\n",
       "      <td>\\$12550.0-\\$12599.0</td>\n",
       "    </tr>\n",
       "    <tr>\n",
       "      <th>412916</th>\n",
       "      <td>412917</td>\n",
       "      <td>6500.0</td>\n",
       "      <td>2021-12-07</td>\n",
       "      <td>13196.58</td>\n",
       "      <td>175578.0</td>\n",
       "      <td>2021-12-07</td>\n",
       "      <td>52</td>\n",
       "      <td>85</td>\n",
       "      <td>2011.0</td>\n",
       "      <td>0 days</td>\n",
       "      <td>14021.366250</td>\n",
       "      <td>6696.58</td>\n",
       "      <td>53.0</td>\n",
       "      <td>\\$13150.0-\\$13199.0</td>\n",
       "    </tr>\n",
       "    <tr>\n",
       "      <th>412917</th>\n",
       "      <td>412918</td>\n",
       "      <td>5500.0</td>\n",
       "      <td>2021-12-07</td>\n",
       "      <td>10600.00</td>\n",
       "      <td>76067.0</td>\n",
       "      <td>2021-12-07</td>\n",
       "      <td>64</td>\n",
       "      <td>483</td>\n",
       "      <td>2012.0</td>\n",
       "      <td>0 days</td>\n",
       "      <td>11262.500000</td>\n",
       "      <td>5100.00</td>\n",
       "      <td>2.0</td>\n",
       "      <td>\\$10600.0-\\$10649.0</td>\n",
       "    </tr>\n",
       "    <tr>\n",
       "      <th>412918</th>\n",
       "      <td>412919</td>\n",
       "      <td>6000.0</td>\n",
       "      <td>2021-12-08</td>\n",
       "      <td>12098.00</td>\n",
       "      <td>122321.0</td>\n",
       "      <td>2021-12-08</td>\n",
       "      <td>27</td>\n",
       "      <td>610</td>\n",
       "      <td>2011.0</td>\n",
       "      <td>0 days</td>\n",
       "      <td>12854.125000</td>\n",
       "      <td>6098.00</td>\n",
       "      <td>31.0</td>\n",
       "      <td>\\$12050.0-\\$12099.0</td>\n",
       "    </tr>\n",
       "  </tbody>\n",
       "</table>\n",
       "<p>394474 rows × 14 columns</p>\n",
       "</div>"
      ],
      "text/plain": [
       "        vehicle_ID  aquisition_cost aquisition_date  sales_price  \\\n",
       "0                1           9500.0      2014-09-02     13365.00   \n",
       "1                2           8500.0      2014-09-02     11144.00   \n",
       "2                3           5700.0      2014-09-02     12540.00   \n",
       "3                4           8000.0      2014-09-02     11113.00   \n",
       "4                5           6655.0      2014-09-02     10700.00   \n",
       "...            ...              ...             ...          ...   \n",
       "412914      412915          10000.0      2021-12-07     12995.00   \n",
       "412915      412916           8500.0      2021-12-07     12592.71   \n",
       "412916      412917           6500.0      2021-12-07     13196.58   \n",
       "412917      412918           5500.0      2021-12-07     10600.00   \n",
       "412918      412919           6000.0      2021-12-08     12098.00   \n",
       "\n",
       "        odometer_reading  sale_date  make_ID  model_ID  model_year timedelta  \\\n",
       "0                78025.0 2014-10-06       67       124      2011.0   34 days   \n",
       "1                47978.0 2014-10-15       67       927      2010.0   43 days   \n",
       "2               120372.0 2014-09-02        9       885      2005.0    0 days   \n",
       "3                91282.0 2014-10-02       52       682      2008.0   30 days   \n",
       "4                59408.0 2014-09-19       34       475      2006.0   17 days   \n",
       "...                  ...        ...      ...       ...         ...       ...   \n",
       "412914           76305.0 2021-12-07       67       169      2016.0    0 days   \n",
       "412915          100982.0 2021-12-07        9       883      2014.0    0 days   \n",
       "412916          175578.0 2021-12-07       52        85      2011.0    0 days   \n",
       "412917           76067.0 2021-12-07       64       483      2012.0    0 days   \n",
       "412918          122321.0 2021-12-08       27       610      2011.0    0 days   \n",
       "\n",
       "        price_plus_tax   profit  price_level          price_range  \n",
       "0         14200.312500  3865.00         57.0  \\$13350.0-\\$13399.0  \n",
       "1         11840.500000  2644.00         12.0  \\$11100.0-\\$11149.0  \n",
       "2         13323.750000  6840.00         40.0  \\$12500.0-\\$12549.0  \n",
       "3         11807.562500  3113.00         12.0  \\$11100.0-\\$11149.0  \n",
       "4         11368.750000  4045.00          4.0  \\$10700.0-\\$10749.0  \n",
       "...                ...      ...          ...                  ...  \n",
       "412914    13807.187500  2995.00         49.0  \\$12950.0-\\$12999.0  \n",
       "412915    13379.754375  4092.71         41.0  \\$12550.0-\\$12599.0  \n",
       "412916    14021.366250  6696.58         53.0  \\$13150.0-\\$13199.0  \n",
       "412917    11262.500000  5100.00          2.0  \\$10600.0-\\$10649.0  \n",
       "412918    12854.125000  6098.00         31.0  \\$12050.0-\\$12099.0  \n",
       "\n",
       "[394474 rows x 14 columns]"
      ]
     },
     "execution_count": 31,
     "metadata": {},
     "output_type": "execute_result"
    }
   ],
   "source": [
    "##task2\n",
    "df['price_level']=(df['sales_price']-10500)//50\n",
    "df['price_range']=df['price_level'].apply(lambda x: '\\$'+str(10500+x*50)+'-\\$'+str(10500+x*50+49))\n",
    "df"
   ]
  },
  {
   "cell_type": "code",
   "execution_count": 32,
   "metadata": {},
   "outputs": [],
   "source": [
    "select=df.groupby(['price_level','price_range'],as_index=False)\n",
    "transaction_num=select['vehicle_ID'].count()\n",
    "aquisition_mean=select['aquisition_cost'].mean()\n",
    "profit_mean=select['profit'].mean()"
   ]
  },
  {
   "cell_type": "code",
   "execution_count": 33,
   "metadata": {
    "scrolled": true
   },
   "outputs": [
    {
     "data": {
      "text/html": [
       "<div>\n",
       "<style scoped>\n",
       "    .dataframe tbody tr th:only-of-type {\n",
       "        vertical-align: middle;\n",
       "    }\n",
       "\n",
       "    .dataframe tbody tr th {\n",
       "        vertical-align: top;\n",
       "    }\n",
       "\n",
       "    .dataframe thead th {\n",
       "        text-align: right;\n",
       "    }\n",
       "</style>\n",
       "<table border=\"1\" class=\"dataframe\">\n",
       "  <thead>\n",
       "    <tr style=\"text-align: right;\">\n",
       "      <th></th>\n",
       "      <th>price_level</th>\n",
       "      <th>price_range</th>\n",
       "      <th>vehicle_ID</th>\n",
       "      <th>aquisition_cost</th>\n",
       "      <th>profit</th>\n",
       "    </tr>\n",
       "  </thead>\n",
       "  <tbody>\n",
       "    <tr>\n",
       "      <th>0</th>\n",
       "      <td>0.0</td>\n",
       "      <td>\\$10500.0-\\$10549.0</td>\n",
       "      <td>3679</td>\n",
       "      <td>8494.650650</td>\n",
       "      <td>2032.340351</td>\n",
       "    </tr>\n",
       "    <tr>\n",
       "      <th>1</th>\n",
       "      <td>1.0</td>\n",
       "      <td>\\$10550.0-\\$10599.0</td>\n",
       "      <td>4929</td>\n",
       "      <td>8155.401595</td>\n",
       "      <td>2423.035462</td>\n",
       "    </tr>\n",
       "    <tr>\n",
       "      <th>2</th>\n",
       "      <td>2.0</td>\n",
       "      <td>\\$10600.0-\\$10649.0</td>\n",
       "      <td>3559</td>\n",
       "      <td>8329.389295</td>\n",
       "      <td>2291.075606</td>\n",
       "    </tr>\n",
       "    <tr>\n",
       "      <th>3</th>\n",
       "      <td>3.0</td>\n",
       "      <td>\\$10650.0-\\$10699.0</td>\n",
       "      <td>4042</td>\n",
       "      <td>8533.669807</td>\n",
       "      <td>2144.463169</td>\n",
       "    </tr>\n",
       "    <tr>\n",
       "      <th>4</th>\n",
       "      <td>4.0</td>\n",
       "      <td>\\$10700.0-\\$10749.0</td>\n",
       "      <td>3983</td>\n",
       "      <td>8533.818288</td>\n",
       "      <td>2185.614723</td>\n",
       "    </tr>\n",
       "    <tr>\n",
       "      <th>5</th>\n",
       "      <td>5.0</td>\n",
       "      <td>\\$10750.0-\\$10799.0</td>\n",
       "      <td>5446</td>\n",
       "      <td>8577.237936</td>\n",
       "      <td>2198.658239</td>\n",
       "    </tr>\n",
       "    <tr>\n",
       "      <th>6</th>\n",
       "      <td>6.0</td>\n",
       "      <td>\\$10800.0-\\$10849.0</td>\n",
       "      <td>4100</td>\n",
       "      <td>8619.634595</td>\n",
       "      <td>2197.746961</td>\n",
       "    </tr>\n",
       "    <tr>\n",
       "      <th>7</th>\n",
       "      <td>7.0</td>\n",
       "      <td>\\$10850.0-\\$10899.0</td>\n",
       "      <td>5154</td>\n",
       "      <td>8559.318877</td>\n",
       "      <td>2320.295479</td>\n",
       "    </tr>\n",
       "    <tr>\n",
       "      <th>8</th>\n",
       "      <td>8.0</td>\n",
       "      <td>\\$10900.0-\\$10949.0</td>\n",
       "      <td>5937</td>\n",
       "      <td>8659.266271</td>\n",
       "      <td>2257.028319</td>\n",
       "    </tr>\n",
       "    <tr>\n",
       "      <th>9</th>\n",
       "      <td>9.0</td>\n",
       "      <td>\\$10950.0-\\$10999.0</td>\n",
       "      <td>22994</td>\n",
       "      <td>8418.033545</td>\n",
       "      <td>2569.873407</td>\n",
       "    </tr>\n",
       "    <tr>\n",
       "      <th>10</th>\n",
       "      <td>10.0</td>\n",
       "      <td>\\$11000.0-\\$11049.0</td>\n",
       "      <td>9646</td>\n",
       "      <td>9003.149112</td>\n",
       "      <td>2006.061886</td>\n",
       "    </tr>\n",
       "    <tr>\n",
       "      <th>11</th>\n",
       "      <td>11.0</td>\n",
       "      <td>\\$11050.0-\\$11099.0</td>\n",
       "      <td>3067</td>\n",
       "      <td>8855.206906</td>\n",
       "      <td>2220.366048</td>\n",
       "    </tr>\n",
       "    <tr>\n",
       "      <th>12</th>\n",
       "      <td>12.0</td>\n",
       "      <td>\\$11100.0-\\$11149.0</td>\n",
       "      <td>3157</td>\n",
       "      <td>8992.848838</td>\n",
       "      <td>2129.484422</td>\n",
       "    </tr>\n",
       "    <tr>\n",
       "      <th>13</th>\n",
       "      <td>13.0</td>\n",
       "      <td>\\$11150.0-\\$11199.0</td>\n",
       "      <td>4010</td>\n",
       "      <td>9000.504848</td>\n",
       "      <td>2178.095763</td>\n",
       "    </tr>\n",
       "    <tr>\n",
       "      <th>14</th>\n",
       "      <td>14.0</td>\n",
       "      <td>\\$11200.0-\\$11249.0</td>\n",
       "      <td>4028</td>\n",
       "      <td>9011.904471</td>\n",
       "      <td>2207.719307</td>\n",
       "    </tr>\n",
       "    <tr>\n",
       "      <th>15</th>\n",
       "      <td>15.0</td>\n",
       "      <td>\\$11250.0-\\$11299.0</td>\n",
       "      <td>5284</td>\n",
       "      <td>8949.501864</td>\n",
       "      <td>2326.844056</td>\n",
       "    </tr>\n",
       "    <tr>\n",
       "      <th>16</th>\n",
       "      <td>16.0</td>\n",
       "      <td>\\$11300.0-\\$11349.0</td>\n",
       "      <td>3841</td>\n",
       "      <td>9126.219828</td>\n",
       "      <td>2192.346917</td>\n",
       "    </tr>\n",
       "    <tr>\n",
       "      <th>17</th>\n",
       "      <td>17.0</td>\n",
       "      <td>\\$11350.0-\\$11399.0</td>\n",
       "      <td>4465</td>\n",
       "      <td>8914.192585</td>\n",
       "      <td>2464.726585</td>\n",
       "    </tr>\n",
       "    <tr>\n",
       "      <th>18</th>\n",
       "      <td>18.0</td>\n",
       "      <td>\\$11400.0-\\$11449.0</td>\n",
       "      <td>4193</td>\n",
       "      <td>9148.566039</td>\n",
       "      <td>2271.071591</td>\n",
       "    </tr>\n",
       "    <tr>\n",
       "      <th>19</th>\n",
       "      <td>19.0</td>\n",
       "      <td>\\$11450.0-\\$11499.0</td>\n",
       "      <td>9658</td>\n",
       "      <td>9192.872990</td>\n",
       "      <td>2288.995533</td>\n",
       "    </tr>\n",
       "    <tr>\n",
       "      <th>20</th>\n",
       "      <td>20.0</td>\n",
       "      <td>\\$11500.0-\\$11549.0</td>\n",
       "      <td>9283</td>\n",
       "      <td>9430.683722</td>\n",
       "      <td>2077.706076</td>\n",
       "    </tr>\n",
       "    <tr>\n",
       "      <th>21</th>\n",
       "      <td>21.0</td>\n",
       "      <td>\\$11550.0-\\$11599.0</td>\n",
       "      <td>5190</td>\n",
       "      <td>9036.374476</td>\n",
       "      <td>2544.280337</td>\n",
       "    </tr>\n",
       "    <tr>\n",
       "      <th>22</th>\n",
       "      <td>22.0</td>\n",
       "      <td>\\$11600.0-\\$11649.0</td>\n",
       "      <td>3598</td>\n",
       "      <td>9311.937902</td>\n",
       "      <td>2308.510322</td>\n",
       "    </tr>\n",
       "    <tr>\n",
       "      <th>23</th>\n",
       "      <td>23.0</td>\n",
       "      <td>\\$11650.0-\\$11699.0</td>\n",
       "      <td>4817</td>\n",
       "      <td>9380.684868</td>\n",
       "      <td>2298.308609</td>\n",
       "    </tr>\n",
       "    <tr>\n",
       "      <th>24</th>\n",
       "      <td>24.0</td>\n",
       "      <td>\\$11700.0-\\$11749.0</td>\n",
       "      <td>4431</td>\n",
       "      <td>9592.350275</td>\n",
       "      <td>2127.695401</td>\n",
       "    </tr>\n",
       "    <tr>\n",
       "      <th>25</th>\n",
       "      <td>25.0</td>\n",
       "      <td>\\$11750.0-\\$11799.0</td>\n",
       "      <td>6091</td>\n",
       "      <td>9569.165633</td>\n",
       "      <td>2206.947132</td>\n",
       "    </tr>\n",
       "    <tr>\n",
       "      <th>26</th>\n",
       "      <td>26.0</td>\n",
       "      <td>\\$11800.0-\\$11849.0</td>\n",
       "      <td>4360</td>\n",
       "      <td>9545.748016</td>\n",
       "      <td>2272.199823</td>\n",
       "    </tr>\n",
       "    <tr>\n",
       "      <th>27</th>\n",
       "      <td>27.0</td>\n",
       "      <td>\\$11850.0-\\$11899.0</td>\n",
       "      <td>6277</td>\n",
       "      <td>9608.765476</td>\n",
       "      <td>2270.669106</td>\n",
       "    </tr>\n",
       "    <tr>\n",
       "      <th>28</th>\n",
       "      <td>28.0</td>\n",
       "      <td>\\$11900.0-\\$11949.0</td>\n",
       "      <td>7830</td>\n",
       "      <td>9747.931258</td>\n",
       "      <td>2171.626498</td>\n",
       "    </tr>\n",
       "    <tr>\n",
       "      <th>29</th>\n",
       "      <td>29.0</td>\n",
       "      <td>\\$11950.0-\\$11999.0</td>\n",
       "      <td>24613</td>\n",
       "      <td>9332.969098</td>\n",
       "      <td>2653.997919</td>\n",
       "    </tr>\n",
       "    <tr>\n",
       "      <th>30</th>\n",
       "      <td>30.0</td>\n",
       "      <td>\\$12000.0-\\$12049.0</td>\n",
       "      <td>9372</td>\n",
       "      <td>10076.552099</td>\n",
       "      <td>1930.531445</td>\n",
       "    </tr>\n",
       "    <tr>\n",
       "      <th>31</th>\n",
       "      <td>31.0</td>\n",
       "      <td>\\$12050.0-\\$12099.0</td>\n",
       "      <td>3226</td>\n",
       "      <td>9970.148289</td>\n",
       "      <td>2106.544575</td>\n",
       "    </tr>\n",
       "    <tr>\n",
       "      <th>32</th>\n",
       "      <td>32.0</td>\n",
       "      <td>\\$12100.0-\\$12149.0</td>\n",
       "      <td>3767</td>\n",
       "      <td>9871.138901</td>\n",
       "      <td>2251.177117</td>\n",
       "    </tr>\n",
       "    <tr>\n",
       "      <th>33</th>\n",
       "      <td>33.0</td>\n",
       "      <td>\\$12150.0-\\$12199.0</td>\n",
       "      <td>4643</td>\n",
       "      <td>9960.013767</td>\n",
       "      <td>2218.254198</td>\n",
       "    </tr>\n",
       "    <tr>\n",
       "      <th>34</th>\n",
       "      <td>34.0</td>\n",
       "      <td>\\$12200.0-\\$12249.0</td>\n",
       "      <td>4394</td>\n",
       "      <td>10089.000330</td>\n",
       "      <td>2130.212624</td>\n",
       "    </tr>\n",
       "    <tr>\n",
       "      <th>35</th>\n",
       "      <td>35.0</td>\n",
       "      <td>\\$12250.0-\\$12299.0</td>\n",
       "      <td>5678</td>\n",
       "      <td>9897.456009</td>\n",
       "      <td>2378.391036</td>\n",
       "    </tr>\n",
       "    <tr>\n",
       "      <th>36</th>\n",
       "      <td>36.0</td>\n",
       "      <td>\\$12300.0-\\$12349.0</td>\n",
       "      <td>4391</td>\n",
       "      <td>10056.362626</td>\n",
       "      <td>2263.187554</td>\n",
       "    </tr>\n",
       "    <tr>\n",
       "      <th>37</th>\n",
       "      <td>37.0</td>\n",
       "      <td>\\$12350.0-\\$12399.0</td>\n",
       "      <td>5531</td>\n",
       "      <td>10092.173677</td>\n",
       "      <td>2286.706145</td>\n",
       "    </tr>\n",
       "    <tr>\n",
       "      <th>38</th>\n",
       "      <td>38.0</td>\n",
       "      <td>\\$12400.0-\\$12449.0</td>\n",
       "      <td>5861</td>\n",
       "      <td>10253.525530</td>\n",
       "      <td>2166.416963</td>\n",
       "    </tr>\n",
       "    <tr>\n",
       "      <th>39</th>\n",
       "      <td>39.0</td>\n",
       "      <td>\\$12450.0-\\$12499.0</td>\n",
       "      <td>9442</td>\n",
       "      <td>10112.805325</td>\n",
       "      <td>2369.992399</td>\n",
       "    </tr>\n",
       "    <tr>\n",
       "      <th>40</th>\n",
       "      <td>40.0</td>\n",
       "      <td>\\$12500.0-\\$12549.0</td>\n",
       "      <td>10618</td>\n",
       "      <td>10469.629824</td>\n",
       "      <td>2038.103218</td>\n",
       "    </tr>\n",
       "    <tr>\n",
       "      <th>41</th>\n",
       "      <td>41.0</td>\n",
       "      <td>\\$12550.0-\\$12599.0</td>\n",
       "      <td>5811</td>\n",
       "      <td>9980.192862</td>\n",
       "      <td>2600.901697</td>\n",
       "    </tr>\n",
       "    <tr>\n",
       "      <th>42</th>\n",
       "      <td>42.0</td>\n",
       "      <td>\\$12600.0-\\$12649.0</td>\n",
       "      <td>4272</td>\n",
       "      <td>10337.824934</td>\n",
       "      <td>2282.583167</td>\n",
       "    </tr>\n",
       "    <tr>\n",
       "      <th>43</th>\n",
       "      <td>43.0</td>\n",
       "      <td>\\$12650.0-\\$12699.0</td>\n",
       "      <td>5382</td>\n",
       "      <td>10438.301310</td>\n",
       "      <td>2240.052908</td>\n",
       "    </tr>\n",
       "    <tr>\n",
       "      <th>44</th>\n",
       "      <td>44.0</td>\n",
       "      <td>\\$12700.0-\\$12749.0</td>\n",
       "      <td>4679</td>\n",
       "      <td>10309.966095</td>\n",
       "      <td>2409.528111</td>\n",
       "    </tr>\n",
       "    <tr>\n",
       "      <th>45</th>\n",
       "      <td>45.0</td>\n",
       "      <td>\\$12750.0-\\$12799.0</td>\n",
       "      <td>6775</td>\n",
       "      <td>10363.630046</td>\n",
       "      <td>2412.856500</td>\n",
       "    </tr>\n",
       "    <tr>\n",
       "      <th>46</th>\n",
       "      <td>46.0</td>\n",
       "      <td>\\$12800.0-\\$12849.0</td>\n",
       "      <td>5231</td>\n",
       "      <td>10533.426706</td>\n",
       "      <td>2284.749428</td>\n",
       "    </tr>\n",
       "    <tr>\n",
       "      <th>47</th>\n",
       "      <td>47.0</td>\n",
       "      <td>\\$12850.0-\\$12899.0</td>\n",
       "      <td>8734</td>\n",
       "      <td>10579.337659</td>\n",
       "      <td>2299.792710</td>\n",
       "    </tr>\n",
       "    <tr>\n",
       "      <th>48</th>\n",
       "      <td>48.0</td>\n",
       "      <td>\\$12900.0-\\$12949.0</td>\n",
       "      <td>7728</td>\n",
       "      <td>10648.842959</td>\n",
       "      <td>2266.707025</td>\n",
       "    </tr>\n",
       "    <tr>\n",
       "      <th>49</th>\n",
       "      <td>49.0</td>\n",
       "      <td>\\$12950.0-\\$12999.0</td>\n",
       "      <td>27074</td>\n",
       "      <td>10305.469626</td>\n",
       "      <td>2682.605994</td>\n",
       "    </tr>\n",
       "    <tr>\n",
       "      <th>50</th>\n",
       "      <td>50.0</td>\n",
       "      <td>\\$13000.0-\\$13049.0</td>\n",
       "      <td>9430</td>\n",
       "      <td>10962.946702</td>\n",
       "      <td>2044.476761</td>\n",
       "    </tr>\n",
       "    <tr>\n",
       "      <th>51</th>\n",
       "      <td>51.0</td>\n",
       "      <td>\\$13050.0-\\$13099.0</td>\n",
       "      <td>3867</td>\n",
       "      <td>10720.375966</td>\n",
       "      <td>2356.593134</td>\n",
       "    </tr>\n",
       "    <tr>\n",
       "      <th>52</th>\n",
       "      <td>52.0</td>\n",
       "      <td>\\$13100.0-\\$13149.0</td>\n",
       "      <td>4035</td>\n",
       "      <td>10924.178414</td>\n",
       "      <td>2197.793856</td>\n",
       "    </tr>\n",
       "    <tr>\n",
       "      <th>53</th>\n",
       "      <td>53.0</td>\n",
       "      <td>\\$13150.0-\\$13199.0</td>\n",
       "      <td>5039</td>\n",
       "      <td>10904.650415</td>\n",
       "      <td>2274.026896</td>\n",
       "    </tr>\n",
       "    <tr>\n",
       "      <th>54</th>\n",
       "      <td>54.0</td>\n",
       "      <td>\\$13200.0-\\$13249.0</td>\n",
       "      <td>4637</td>\n",
       "      <td>10965.193470</td>\n",
       "      <td>2253.791277</td>\n",
       "    </tr>\n",
       "    <tr>\n",
       "      <th>55</th>\n",
       "      <td>55.0</td>\n",
       "      <td>\\$13250.0-\\$13299.0</td>\n",
       "      <td>6668</td>\n",
       "      <td>10779.481303</td>\n",
       "      <td>2496.967244</td>\n",
       "    </tr>\n",
       "    <tr>\n",
       "      <th>56</th>\n",
       "      <td>56.0</td>\n",
       "      <td>\\$13300.0-\\$13349.0</td>\n",
       "      <td>5411</td>\n",
       "      <td>11143.627914</td>\n",
       "      <td>2178.321225</td>\n",
       "    </tr>\n",
       "    <tr>\n",
       "      <th>57</th>\n",
       "      <td>57.0</td>\n",
       "      <td>\\$13350.0-\\$13399.0</td>\n",
       "      <td>6222</td>\n",
       "      <td>11093.066614</td>\n",
       "      <td>2283.840670</td>\n",
       "    </tr>\n",
       "    <tr>\n",
       "      <th>58</th>\n",
       "      <td>58.0</td>\n",
       "      <td>\\$13400.0-\\$13449.0</td>\n",
       "      <td>4822</td>\n",
       "      <td>11149.974861</td>\n",
       "      <td>2270.157630</td>\n",
       "    </tr>\n",
       "    <tr>\n",
       "      <th>59</th>\n",
       "      <td>59.0</td>\n",
       "      <td>\\$13450.0-\\$13499.0</td>\n",
       "      <td>10072</td>\n",
       "      <td>11006.605897</td>\n",
       "      <td>2476.851171</td>\n",
       "    </tr>\n",
       "  </tbody>\n",
       "</table>\n",
       "</div>"
      ],
      "text/plain": [
       "    price_level          price_range  vehicle_ID  aquisition_cost       profit\n",
       "0           0.0  \\$10500.0-\\$10549.0        3679      8494.650650  2032.340351\n",
       "1           1.0  \\$10550.0-\\$10599.0        4929      8155.401595  2423.035462\n",
       "2           2.0  \\$10600.0-\\$10649.0        3559      8329.389295  2291.075606\n",
       "3           3.0  \\$10650.0-\\$10699.0        4042      8533.669807  2144.463169\n",
       "4           4.0  \\$10700.0-\\$10749.0        3983      8533.818288  2185.614723\n",
       "5           5.0  \\$10750.0-\\$10799.0        5446      8577.237936  2198.658239\n",
       "6           6.0  \\$10800.0-\\$10849.0        4100      8619.634595  2197.746961\n",
       "7           7.0  \\$10850.0-\\$10899.0        5154      8559.318877  2320.295479\n",
       "8           8.0  \\$10900.0-\\$10949.0        5937      8659.266271  2257.028319\n",
       "9           9.0  \\$10950.0-\\$10999.0       22994      8418.033545  2569.873407\n",
       "10         10.0  \\$11000.0-\\$11049.0        9646      9003.149112  2006.061886\n",
       "11         11.0  \\$11050.0-\\$11099.0        3067      8855.206906  2220.366048\n",
       "12         12.0  \\$11100.0-\\$11149.0        3157      8992.848838  2129.484422\n",
       "13         13.0  \\$11150.0-\\$11199.0        4010      9000.504848  2178.095763\n",
       "14         14.0  \\$11200.0-\\$11249.0        4028      9011.904471  2207.719307\n",
       "15         15.0  \\$11250.0-\\$11299.0        5284      8949.501864  2326.844056\n",
       "16         16.0  \\$11300.0-\\$11349.0        3841      9126.219828  2192.346917\n",
       "17         17.0  \\$11350.0-\\$11399.0        4465      8914.192585  2464.726585\n",
       "18         18.0  \\$11400.0-\\$11449.0        4193      9148.566039  2271.071591\n",
       "19         19.0  \\$11450.0-\\$11499.0        9658      9192.872990  2288.995533\n",
       "20         20.0  \\$11500.0-\\$11549.0        9283      9430.683722  2077.706076\n",
       "21         21.0  \\$11550.0-\\$11599.0        5190      9036.374476  2544.280337\n",
       "22         22.0  \\$11600.0-\\$11649.0        3598      9311.937902  2308.510322\n",
       "23         23.0  \\$11650.0-\\$11699.0        4817      9380.684868  2298.308609\n",
       "24         24.0  \\$11700.0-\\$11749.0        4431      9592.350275  2127.695401\n",
       "25         25.0  \\$11750.0-\\$11799.0        6091      9569.165633  2206.947132\n",
       "26         26.0  \\$11800.0-\\$11849.0        4360      9545.748016  2272.199823\n",
       "27         27.0  \\$11850.0-\\$11899.0        6277      9608.765476  2270.669106\n",
       "28         28.0  \\$11900.0-\\$11949.0        7830      9747.931258  2171.626498\n",
       "29         29.0  \\$11950.0-\\$11999.0       24613      9332.969098  2653.997919\n",
       "30         30.0  \\$12000.0-\\$12049.0        9372     10076.552099  1930.531445\n",
       "31         31.0  \\$12050.0-\\$12099.0        3226      9970.148289  2106.544575\n",
       "32         32.0  \\$12100.0-\\$12149.0        3767      9871.138901  2251.177117\n",
       "33         33.0  \\$12150.0-\\$12199.0        4643      9960.013767  2218.254198\n",
       "34         34.0  \\$12200.0-\\$12249.0        4394     10089.000330  2130.212624\n",
       "35         35.0  \\$12250.0-\\$12299.0        5678      9897.456009  2378.391036\n",
       "36         36.0  \\$12300.0-\\$12349.0        4391     10056.362626  2263.187554\n",
       "37         37.0  \\$12350.0-\\$12399.0        5531     10092.173677  2286.706145\n",
       "38         38.0  \\$12400.0-\\$12449.0        5861     10253.525530  2166.416963\n",
       "39         39.0  \\$12450.0-\\$12499.0        9442     10112.805325  2369.992399\n",
       "40         40.0  \\$12500.0-\\$12549.0       10618     10469.629824  2038.103218\n",
       "41         41.0  \\$12550.0-\\$12599.0        5811      9980.192862  2600.901697\n",
       "42         42.0  \\$12600.0-\\$12649.0        4272     10337.824934  2282.583167\n",
       "43         43.0  \\$12650.0-\\$12699.0        5382     10438.301310  2240.052908\n",
       "44         44.0  \\$12700.0-\\$12749.0        4679     10309.966095  2409.528111\n",
       "45         45.0  \\$12750.0-\\$12799.0        6775     10363.630046  2412.856500\n",
       "46         46.0  \\$12800.0-\\$12849.0        5231     10533.426706  2284.749428\n",
       "47         47.0  \\$12850.0-\\$12899.0        8734     10579.337659  2299.792710\n",
       "48         48.0  \\$12900.0-\\$12949.0        7728     10648.842959  2266.707025\n",
       "49         49.0  \\$12950.0-\\$12999.0       27074     10305.469626  2682.605994\n",
       "50         50.0  \\$13000.0-\\$13049.0        9430     10962.946702  2044.476761\n",
       "51         51.0  \\$13050.0-\\$13099.0        3867     10720.375966  2356.593134\n",
       "52         52.0  \\$13100.0-\\$13149.0        4035     10924.178414  2197.793856\n",
       "53         53.0  \\$13150.0-\\$13199.0        5039     10904.650415  2274.026896\n",
       "54         54.0  \\$13200.0-\\$13249.0        4637     10965.193470  2253.791277\n",
       "55         55.0  \\$13250.0-\\$13299.0        6668     10779.481303  2496.967244\n",
       "56         56.0  \\$13300.0-\\$13349.0        5411     11143.627914  2178.321225\n",
       "57         57.0  \\$13350.0-\\$13399.0        6222     11093.066614  2283.840670\n",
       "58         58.0  \\$13400.0-\\$13449.0        4822     11149.974861  2270.157630\n",
       "59         59.0  \\$13450.0-\\$13499.0       10072     11006.605897  2476.851171"
      ]
     },
     "execution_count": 33,
     "metadata": {},
     "output_type": "execute_result"
    }
   ],
   "source": [
    "##task3\n",
    "fig_data=transaction_num.merge(aquisition_mean,on=['price_level','price_range'], how='outer').merge(profit_mean,on=['price_level','price_range'], how='outer')\n",
    "fig_data\n"
   ]
  },
  {
   "cell_type": "code",
   "execution_count": 52,
   "metadata": {
    "scrolled": true
   },
   "outputs": [
    {
     "data": {
      "text/plain": [
       "<matplotlib.axes._subplots.AxesSubplot at 0x17eb2934908>"
      ]
     },
     "execution_count": 52,
     "metadata": {},
     "output_type": "execute_result"
    },
    {
     "data": {
      "text/plain": [
       "[<matplotlib.lines.Line2D at 0x17eb2820c48>]"
      ]
     },
     "execution_count": 52,
     "metadata": {},
     "output_type": "execute_result"
    },
    {
     "data": {
      "text/plain": [
       "<matplotlib.collections.PathCollection at 0x17eb2a79ac8>"
      ]
     },
     "execution_count": 52,
     "metadata": {},
     "output_type": "execute_result"
    },
    {
     "data": {
      "text/plain": [
       "(array([10000., 11000., 12000., 13000., 14000.]),\n",
       " <a list of 5 Text xticklabel objects>)"
      ]
     },
     "execution_count": 52,
     "metadata": {},
     "output_type": "execute_result"
    },
    {
     "data": {
      "text/plain": [
       "(array([ 7000.,  8000.,  9000., 10000., 11000., 12000.]),\n",
       " <a list of 6 Text yticklabel objects>)"
      ]
     },
     "execution_count": 52,
     "metadata": {},
     "output_type": "execute_result"
    },
    {
     "data": {
      "text/plain": [
       "Text(0.5, 0, 'Sales Price')"
      ]
     },
     "execution_count": 52,
     "metadata": {},
     "output_type": "execute_result"
    },
    {
     "data": {
      "text/plain": [
       "Text(0, 0.5, 'Mean Aquisition Cost')"
      ]
     },
     "execution_count": 52,
     "metadata": {},
     "output_type": "execute_result"
    },
    {
     "data": {
      "text/plain": [
       "Text(0.5, 1.0, 'Average Aquisition Cost by Sales Price Bucks')"
      ]
     },
     "execution_count": 52,
     "metadata": {},
     "output_type": "execute_result"
    },
    {
     "data": {
      "text/plain": [
       "<matplotlib.axes._subplots.AxesSubplot at 0x17eb2a70688>"
      ]
     },
     "execution_count": 52,
     "metadata": {},
     "output_type": "execute_result"
    },
    {
     "data": {
      "text/plain": [
       "[<matplotlib.lines.Line2D at 0x17eb2ac5888>]"
      ]
     },
     "execution_count": 52,
     "metadata": {},
     "output_type": "execute_result"
    },
    {
     "data": {
      "text/plain": [
       "<matplotlib.collections.PathCollection at 0x17eb2a921c8>"
      ]
     },
     "execution_count": 52,
     "metadata": {},
     "output_type": "execute_result"
    },
    {
     "data": {
      "text/plain": [
       "(array([10000., 11000., 12000., 13000., 14000.]),\n",
       " <a list of 5 Text xticklabel objects>)"
      ]
     },
     "execution_count": 52,
     "metadata": {},
     "output_type": "execute_result"
    },
    {
     "data": {
      "text/plain": [
       "(array([    0.,  5000., 10000., 15000., 20000., 25000., 30000.]),\n",
       " <a list of 7 Text yticklabel objects>)"
      ]
     },
     "execution_count": 52,
     "metadata": {},
     "output_type": "execute_result"
    },
    {
     "data": {
      "text/plain": [
       "Text(0.5, 0, 'Sales Price')"
      ]
     },
     "execution_count": 52,
     "metadata": {},
     "output_type": "execute_result"
    },
    {
     "data": {
      "text/plain": [
       "Text(0, 0.5, 'Transaction Number')"
      ]
     },
     "execution_count": 52,
     "metadata": {},
     "output_type": "execute_result"
    },
    {
     "data": {
      "text/plain": [
       "Text(0.5, 1.0, 'Transaction Number by Sales Price Bucks')"
      ]
     },
     "execution_count": 52,
     "metadata": {},
     "output_type": "execute_result"
    },
    {
     "data": {
      "text/plain": [
       "<matplotlib.axes._subplots.AxesSubplot at 0x17eb2ae8508>"
      ]
     },
     "execution_count": 52,
     "metadata": {},
     "output_type": "execute_result"
    },
    {
     "data": {
      "text/plain": [
       "[<matplotlib.lines.Line2D at 0x17eb2ae8388>]"
      ]
     },
     "execution_count": 52,
     "metadata": {},
     "output_type": "execute_result"
    },
    {
     "data": {
      "text/plain": [
       "<matplotlib.collections.PathCollection at 0x17eb2b15488>"
      ]
     },
     "execution_count": 52,
     "metadata": {},
     "output_type": "execute_result"
    },
    {
     "data": {
      "text/plain": [
       "(array([10000., 10500., 11000., 11500., 12000., 12500., 13000., 13500.,\n",
       "        14000.]),\n",
       " <a list of 9 Text xticklabel objects>)"
      ]
     },
     "execution_count": 52,
     "metadata": {},
     "output_type": "execute_result"
    },
    {
     "data": {
      "text/plain": [
       "(array([1800., 2000., 2200., 2400., 2600., 2800.]),\n",
       " <a list of 6 Text yticklabel objects>)"
      ]
     },
     "execution_count": 52,
     "metadata": {},
     "output_type": "execute_result"
    },
    {
     "data": {
      "text/plain": [
       "Text(0.5, 0, 'Sales Price')"
      ]
     },
     "execution_count": 52,
     "metadata": {},
     "output_type": "execute_result"
    },
    {
     "data": {
      "text/plain": [
       "Text(0, 0.5, 'Mean Operating Profit')"
      ]
     },
     "execution_count": 52,
     "metadata": {},
     "output_type": "execute_result"
    },
    {
     "data": {
      "text/plain": [
       "Text(0.5, 1.0, 'Average Operating Profit by Sales Price Bucks')"
      ]
     },
     "execution_count": 52,
     "metadata": {},
     "output_type": "execute_result"
    },
    {
     "data": {
      "image/png": "[encoded data removed]",
      "text/plain": [
       "<Figure size 576x396 with 3 Axes>"
      ]
     },
     "metadata": {},
     "output_type": "display_data"
    }
   ],
   "source": [
    "plt.style.use('seaborn')\n",
    "plt.subplot(2, 2, 1)\n",
    "x=fig_data['price_level']*50+10500+25\n",
    "plt.plot(x,fig_data['aquisition_cost'],linewidth=1)\n",
    "plt.scatter(x,fig_data['aquisition_cost'],s=10)\n",
    "plt.xticks(fontsize=5)\n",
    "plt.yticks(fontsize=5)\n",
    "plt.xlabel('Sales Price',fontsize=5)\n",
    "plt.ylabel('Mean Aquisition Cost',fontsize=5)\n",
    "plt.title('Average Aquisition Cost by Sales Price Bucks',fontsize=10)\n",
    "\n",
    "plt.subplot(2, 2, 2)\n",
    "plt.subplots_adjust(wspace=0.2, hspace=None)\n",
    "plt.plot(x,fig_data['vehicle_ID'],linewidth=1)\n",
    "plt.scatter(x,fig_data['vehicle_ID'],s=10)\n",
    "plt.xticks(fontsize=5)\n",
    "plt.yticks(fontsize=5)\n",
    "plt.xlabel('Sales Price',fontsize=5)\n",
    "plt.ylabel('Transaction Number',fontsize=5)\n",
    "plt.title('Transaction Number by Sales Price Bucks',fontsize=10)\n",
    "\n",
    "plt.subplot(2, 1, 2)\n",
    "plt.subplots_adjust(wspace=None, hspace=0.5)\n",
    "plt.plot(x,fig_data['profit'],linewidth=1)\n",
    "plt.scatter(x,fig_data['profit'],s=20)\n",
    "plt.xticks(fontsize=5)\n",
    "plt.yticks(fontsize=5)\n",
    "plt.xlabel('Sales Price',fontsize=5)\n",
    "plt.ylabel('Mean Operating Profit',fontsize=5)\n",
    "plt.title('Average Operating Profit by Sales Price Bucks',fontsize=10)\n",
    "\n",
    "plt.savefig(path+r\"/profit34.pdf\")\n",
    "plt.show()\n"
   ]
  },
  {
   "cell_type": "code",
   "execution_count": 62,
   "metadata": {},
   "outputs": [],
   "source": [
    "##task5\n",
    "timedelta_mean=select['timedelta'].mean()\n",
    "fig_data=fig_data.merge(timedelta_mean,on=['price_level','price_range'], how='outer')"
   ]
  },
  {
   "cell_type": "code",
   "execution_count": 68,
   "metadata": {},
   "outputs": [
    {
     "data": {
      "text/plain": [
       "[<matplotlib.lines.Line2D at 0x17eb7787508>]"
      ]
     },
     "execution_count": 68,
     "metadata": {},
     "output_type": "execute_result"
    },
    {
     "data": {
      "text/plain": [
       "<matplotlib.collections.PathCollection at 0x17eb76fc0c8>"
      ]
     },
     "execution_count": 68,
     "metadata": {},
     "output_type": "execute_result"
    },
    {
     "data": {
      "text/plain": [
       "(array([10000., 10500., 11000., 11500., 12000., 12500., 13000., 13500.,\n",
       "        14000.]),\n",
       " <a list of 9 Text xticklabel objects>)"
      ]
     },
     "execution_count": 68,
     "metadata": {},
     "output_type": "execute_result"
    },
    {
     "data": {
      "text/plain": [
       "(array([32., 33., 34., 35., 36., 37., 38., 39.]),\n",
       " <a list of 8 Text yticklabel objects>)"
      ]
     },
     "execution_count": 68,
     "metadata": {},
     "output_type": "execute_result"
    },
    {
     "data": {
      "text/plain": [
       "Text(0.5, 0, 'Sales Price')"
      ]
     },
     "execution_count": 68,
     "metadata": {},
     "output_type": "execute_result"
    },
    {
     "data": {
      "text/plain": [
       "Text(0, 0.5, 'Mean Timedelta')"
      ]
     },
     "execution_count": 68,
     "metadata": {},
     "output_type": "execute_result"
    },
    {
     "data": {
      "text/plain": [
       "Text(0.5, 1.0, 'Average Time between Acquisition and Sale by Sales Price Bucks')"
      ]
     },
     "execution_count": 68,
     "metadata": {},
     "output_type": "execute_result"
    },
    {
     "data": {
      "image/png": "[encoded data removed]",
      "text/plain": [
       "<Figure size 576x396 with 1 Axes>"
      ]
     },
     "metadata": {},
     "output_type": "display_data"
    }
   ],
   "source": [
    "plt.style.use('seaborn')\n",
    "x=fig_data['price_level']*50+10500+25\n",
    "time=[t.days for t in fig_data['timedelta']]\n",
    "plt.plot(x,time,linewidth=1)\n",
    "plt.scatter(x,time,s=10)\n",
    "plt.xticks(fontsize=5)\n",
    "plt.yticks(fontsize=5)\n",
    "plt.xlabel('Sales Price',fontsize=5)\n",
    "plt.ylabel('Mean Timedelta',fontsize=5)\n",
    "plt.title('Average Time between Acquisition and Sale by Sales Price Bucks',fontsize=10)\n",
    "\n",
    "plt.savefig(path+r\"/profit5.pdf\")\n",
    "plt.show()"
   ]
  },
  {
   "cell_type": "code",
   "execution_count": 101,
   "metadata": {},
   "outputs": [
    {
     "name": "stdout",
     "output_type": "stream",
     "text": [
      "                            OLS Regression Results                            \n",
      "==============================================================================\n",
      "Dep. Variable:                 profit   R-squared:                       0.004\n",
      "Model:                            OLS   Adj. R-squared:                  0.004\n",
      "Method:                 Least Squares   F-statistic:                     1464.\n",
      "Date:                Tue, 28 Mar 2023   Prob (F-statistic):          1.27e-319\n",
      "Time:                        20:52:28   Log-Likelihood:            -3.9226e+06\n",
      "No. Observations:              394474   AIC:                         7.845e+06\n",
      "Df Residuals:                  394472   BIC:                         7.845e+06\n",
      "Df Model:                           1                                         \n",
      "Covariance Type:            nonrobust                                         \n",
      "==============================================================================\n",
      "                 coef    std err          t      P>|t|      [0.025      0.975]\n",
      "------------------------------------------------------------------------------\n",
      "const       2696.5914     12.670    212.830      0.000    2671.758    2721.425\n",
      "timedelta    -10.2812      0.269    -38.256      0.000     -10.808      -9.754\n",
      "==============================================================================\n",
      "Omnibus:                  1020915.917   Durbin-Watson:                   1.981\n",
      "Prob(Omnibus):                  0.000   Jarque-Bera (JB):     253804862986.771\n",
      "Skew:                         -28.733   Prob(JB):                         0.00\n",
      "Kurtosis:                    3932.162   Cond. No.                         74.5\n",
      "==============================================================================\n",
      "\n",
      "Warnings:\n",
      "[1] Standard Errors assume that the covariance matrix of the errors is correctly specified.\n"
     ]
    }
   ],
   "source": [
    "y = df[ 'profit'] \n",
    "x = df['timedelta'].apply(lambda x: x.days)\n",
    "x = sm.add_constant(x) \n",
    "model = sm.OLS(y, x).fit() \n",
    "print(model.summary())  "
   ]
  },
  {
   "cell_type": "code",
   "execution_count": 120,
   "metadata": {},
   "outputs": [
    {
     "data": {
      "text/plain": [
       "2321.4182447512444"
      ]
     },
     "execution_count": 120,
     "metadata": {},
     "output_type": "execute_result"
    }
   ],
   "source": [
    "df['profit'].mean()"
   ]
  },
  {
   "cell_type": "code",
   "execution_count": 102,
   "metadata": {},
   "outputs": [
    {
     "name": "stdout",
     "output_type": "stream",
     "text": [
      "\n",
      "====================\n",
      "            profit  \n",
      "--------------------\n",
      "const     2696.59***\n",
      "          (12.67)   \n",
      "timedelta -10.28*** \n",
      "          (0.27)    \n",
      "R-squared 0.00      \n",
      "          0.00      \n",
      "N         394474    \n",
      "R2        0.00      \n",
      "====================\n",
      "Standard errors in\n",
      "parentheses.\n",
      "* p<.1, ** p<.05,\n",
      "***p<.01\n"
     ]
    }
   ],
   "source": [
    "dfoutput= summary_col([model,],stars=True,float_format='%0.2f',\n",
    "                  model_names=['profit'],\n",
    "                  info_dict={'N':lambda x: \"{0:d}\".format(int(x.nobs)),\n",
    "                             'R2':lambda x: \"{:.2f}\".format(x.rsquared)})\n",
    "print(dfoutput)"
   ]
  },
  {
   "cell_type": "code",
   "execution_count": 105,
   "metadata": {},
   "outputs": [
    {
     "name": "stdout",
     "output_type": "stream",
     "text": [
      "\\begin{table}\n",
      "\\caption{}\n",
      "\\begin{center}\n",
      "\\begin{tabular}{lc}\n",
      "\\hline\n",
      "          &   profit    \\\\\n",
      "\\midrule\n",
      "const     & 2696.59***  \\\\\n",
      "          & (12.67)     \\\\\n",
      "timedelta & -10.28***   \\\\\n",
      "          & (0.27)      \\\\\n",
      "R-squared & 0.00        \\\\\n",
      "          & 0.00        \\\\\n",
      "N         & 394474      \\\\\n",
      "R2        & 0.00        \\\\\n",
      "\\hline\n",
      "\\end{tabular}\n",
      "\\end{center}\n",
      "\\end{table}\n"
     ]
    }
   ],
   "source": [
    "print(dfoutput.as_latex())"
   ]
  }
 ],
 "metadata": {
  "kernelspec": {
   "display_name": "Python 3",
   "language": "python",
   "name": "python3"
  },
  "language_info": {
   "codemirror_mode": {
    "name": "ipython",
    "version": 3
   },
   "file_extension": ".py",
   "mimetype": "text/x-python",
   "name": "python",
   "nbconvert_exporter": "python",
   "pygments_lexer": "ipython3",
   "version": "3.7.6"
  }
 },
 "nbformat": 4,
 "nbformat_minor": 4
}
